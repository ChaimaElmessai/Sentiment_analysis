{
  "cells": [
    {
      "cell_type": "markdown",
      "metadata": {
        "id": "bb9af7be"
      },
      "source": [
        "**ELMESSAI Chaima**"
      ],
      "id": "bb9af7be"
    },
    {
      "cell_type": "markdown",
      "metadata": {
        "id": "avWCKwE1AxSN"
      },
      "source": [
        "# TP : Sentiment analysis on IMDB movie reviews\n",
        "\n",
        "## Objectives:\n",
        "\n",
        "1. Use a simple way to represent textual data - Bag of words and test it with a simple model for a sentiment classification task - Naïve Bayesian\n",
        "2. Explore improvements to these simple representations\n",
        "3. Implement various methods to obtain dense representations (word embeddings) of the same data\n",
        "4. Test these new representations with a simple classification model"
      ],
      "id": "avWCKwE1AxSN"
    },
    {
      "cell_type": "markdown",
      "metadata": {
        "id": "e4c7af15"
      },
      "source": [
        "## Necessary dependancies\n",
        "\n",
        "We will need the following packages:\n",
        "- The Machine Learning API Scikit-learn : http://scikit-learn.org/stable/install.html\n",
        "- The Natural Language Toolkit : http://www.nltk.org/install.html\n",
        "\n",
        "Both are available with Anaconda: https://anaconda.org/anaconda/nltk and https://anaconda.org/anaconda/scikit-learn"
      ],
      "id": "e4c7af15"
    },
    {
      "cell_type": "code",
      "execution_count": null,
      "metadata": {
        "id": "079ef84c"
      },
      "outputs": [],
      "source": [
        "import os.path as op\n",
        "import re \n",
        "import numpy as np\n",
        "import matplotlib.pyplot as plt"
      ],
      "id": "079ef84c"
    },
    {
      "cell_type": "markdown",
      "metadata": {
        "id": "0a147280"
      },
      "source": [
        "## Loading data\n",
        "\n",
        "We retrieve the textual data in the variable *texts*.\n",
        "\n",
        "The labels are retrieved in the variable $y$ - it contains *len(texts)* of them: $0$ indicates that the corresponding review is negative while $1$ indicates that it is positive."
      ],
      "id": "0a147280"
    },
    {
      "cell_type": "code",
      "execution_count": null,
      "metadata": {
        "id": "NduNWY6-clxy"
      },
      "outputs": [],
      "source": [
        "from zipfile import ZipFile\n",
        "\n",
        "with ZipFile('aclImdb.zip', 'r') as zipObj:\n",
        "   # Extract all the contents of zip file in current directory\n",
        "   zipObj.extractall()"
      ],
      "id": "NduNWY6-clxy"
    },
    {
      "cell_type": "code",
      "execution_count": null,
      "metadata": {
        "colab": {
          "base_uri": "https://localhost:8080/",
          "height": 35
        },
        "id": "9340ff7d",
        "outputId": "7177880e-a690-43ec-e024-902d3b2bdafb"
      },
      "outputs": [
        {
          "data": {
            "application/vnd.google.colaboratory.intrinsic+json": {
              "type": "string"
            },
            "text/plain": [
              "'\\ntest_labels = np.ones(len(test_texts), dtype=np.int)\\ntest_labels[:len(test_texts_neg)] = 0.\\n'"
            ]
          },
          "execution_count": 11,
          "metadata": {},
          "output_type": "execute_result"
        }
      ],
      "source": [
        "from glob import glob\n",
        "# We get the files from the path: ./aclImdb/train/neg for negative reviews, and ./aclImdb/train/pos for positive reviews\n",
        "train_filenames_neg = sorted(glob(op.join('.', 'aclImdb', 'train', 'neg', '*.txt')))\n",
        "train_filenames_pos = sorted(glob(op.join('.', 'aclImdb', 'train', 'pos', '*.txt')))\n",
        "\n",
        "\"\"\"\n",
        "test_filenames_neg = sorted(glob(op.join('.', 'aclImdb', 'test', 'neg', '*.txt')))\n",
        "test_filenames_pos = sorted(glob(op.join('.', 'aclImdb', 'test', 'pos', '*.txt')))\n",
        "\"\"\"\n",
        "\n",
        "# Each files contains a review that consists in one line of text: we put this string in two lists, that we concatenate\n",
        "train_texts_neg = [open(f, encoding=\"utf8\").read() for f in train_filenames_neg]\n",
        "train_texts_pos = [open(f, encoding=\"utf8\").read() for f in train_filenames_pos]\n",
        "train_texts = train_texts_neg + train_texts_pos\n",
        "\n",
        "\"\"\"\n",
        "test_texts_neg = [open(f, encoding=\"utf8\").read() for f in test_filenames_neg]\n",
        "test_texts_pos = [open(f, encoding=\"utf8\").read() for f in test_filenames_pos]\n",
        "test_texts = test_texts_neg + test_texts_pos\n",
        "\"\"\"\n",
        "\n",
        "# The first half of the elements of the list are string of negative reviews, and the second half positive ones\n",
        "# We create the labels, as an array of [1,len(texts)], filled with 1, and change the first half to 0\n",
        "train_labels = np.ones(len(train_texts), dtype=int)\n",
        "train_labels[:len(train_texts_neg)] = 0.\n",
        "\n",
        "\"\"\"\n",
        "test_labels = np.ones(len(test_texts), dtype=np.int)\n",
        "test_labels[:len(test_texts_neg)] = 0.\n",
        "\"\"\""
      ],
      "id": "9340ff7d"
    },
    {
      "cell_type": "markdown",
      "metadata": {
        "id": "c0605d5b"
      },
      "source": [
        "Example of one document:"
      ],
      "id": "c0605d5b"
    },
    {
      "cell_type": "code",
      "execution_count": null,
      "metadata": {
        "colab": {
          "base_uri": "https://localhost:8080/",
          "height": 105
        },
        "id": "83da5919",
        "outputId": "361367e6-31d3-4e95-ebe9-7ee6908a5cbd"
      },
      "outputs": [
        {
          "data": {
            "application/vnd.google.colaboratory.intrinsic+json": {
              "type": "string"
            },
            "text/plain": [
              "\"Story of a man who has unnatural feelings for a pig. Starts out with a opening scene that is a terrific example of absurd comedy. A formal orchestra audience is turned into an insane, violent mob by the crazy chantings of it's singers. Unfortunately it stays absurd the WHOLE time with no general narrative eventually making it just too off putting. Even those from the era should be turned off. The cryptic dialogue would make Shakespeare seem easy to a third grader. On a technical level it's better than you might think with some good cinematography by future great Vilmos Zsigmond. Future stars Sally Kirkland and Frederic Forrest can be seen briefly.\""
            ]
          },
          "execution_count": 12,
          "metadata": {},
          "output_type": "execute_result"
        }
      ],
      "source": [
        "open(\"./aclImdb/train/neg/0_3.txt\", encoding=\"utf8\").read()"
      ],
      "id": "83da5919"
    },
    {
      "cell_type": "markdown",
      "metadata": {
        "id": "0930e023"
      },
      "source": [
        "**In this lab, the impact of our choice of representations upon our results will also depend on the quantity of data we use:** try to see how changing the parameter ```k``` affects our results !"
      ],
      "id": "0930e023"
    },
    {
      "cell_type": "code",
      "execution_count": null,
      "metadata": {
        "colab": {
          "base_uri": "https://localhost:8080/"
        },
        "id": "6f11d1f8",
        "outputId": "53147674-da40-4f67-a17f-fb04112ccede"
      },
      "outputs": [
        {
          "name": "stdout",
          "output_type": "stream",
          "text": [
            "Number of documents: 2500\n"
          ]
        }
      ],
      "source": [
        "# This number of documents may be high for most computers: we can select a fraction of them (here, one in k)\n",
        "# Use an even number to keep the same number of positive and negative reviews\n",
        "k = 10\n",
        "train_texts_reduced = train_texts[0::k]\n",
        "train_labels_reduced = train_labels[0::k]\n",
        "\n",
        "print('Number of documents:', len(train_texts_reduced))"
      ],
      "id": "6f11d1f8"
    },
    {
      "cell_type": "markdown",
      "metadata": {
        "id": "077226ba"
      },
      "source": [
        "We can use a function from sklearn, ```train_test_split```, to separate data into training and validation sets:"
      ],
      "id": "077226ba"
    },
    {
      "cell_type": "code",
      "execution_count": null,
      "metadata": {
        "id": "ff1da002"
      },
      "outputs": [],
      "source": [
        "from sklearn.model_selection import train_test_split"
      ],
      "id": "ff1da002"
    },
    {
      "cell_type": "code",
      "execution_count": null,
      "metadata": {
        "id": "0c7f5643"
      },
      "outputs": [],
      "source": [
        "train_texts_splt, val_texts, train_labels_splt, val_labels = train_test_split(train_texts_reduced, train_labels_reduced, test_size=.2)"
      ],
      "id": "0c7f5643"
    },
    {
      "cell_type": "markdown",
      "metadata": {
        "id": "4910da68"
      },
      "source": [
        "## 1 - Adapted representation of documents\n",
        "\n",
        "Our statistical model, like most models applied to textual data, uses counts of word occurrences in a document. Thus, a very convenient way to represent a document is to use a Bag-of-Words (BoW) vector, containing the counts of each word (regardless of their order of occurrence) in the document. \n",
        "\n",
        "If we consider the set of all the words appearing in our $T$ training documents, which we note $V$ (Vocabulary), we can create **an index**, which is a bijection associating to each $w$ word an integer, which will be its position in $V$. \n",
        "\n",
        "Thus, for a document extracted from a set of documents containing $|V|$ different words, a BoW representation will be a vector of size $|V|$, whose value at the index of a word $w$ will be its number of occurrences in the document. \n",
        "\n",
        "We can use the **CountVectorizer** class from scikit-learn to obtain these representations:"
      ],
      "id": "4910da68"
    },
    {
      "cell_type": "code",
      "execution_count": null,
      "metadata": {
        "id": "d295630f"
      },
      "outputs": [],
      "source": [
        "from sklearn.feature_extraction.text import CountVectorizer"
      ],
      "id": "d295630f"
    },
    {
      "cell_type": "code",
      "execution_count": null,
      "metadata": {
        "colab": {
          "base_uri": "https://localhost:8080/"
        },
        "id": "3b3fcd3e",
        "outputId": "26678df5-2383-4a67-ef31-f83f3a42cd69"
      },
      "outputs": [
        {
          "name": "stdout",
          "output_type": "stream",
          "text": [
            "['avenue', 'boulevard', 'city', 'down', 'ran', 'the', 'walk', 'walked']\n"
          ]
        },
        {
          "name": "stderr",
          "output_type": "stream",
          "text": [
            "/usr/local/lib/python3.7/dist-packages/sklearn/utils/deprecation.py:87: FutureWarning: Function get_feature_names is deprecated; get_feature_names is deprecated in 1.0 and will be removed in 1.2. Please use get_feature_names_out instead.\n",
            "  warnings.warn(msg, category=FutureWarning)\n"
          ]
        },
        {
          "data": {
            "text/plain": [
              "array([[0, 1, 0, 2, 0, 1, 0, 1],\n",
              "       [1, 0, 0, 1, 0, 1, 0, 1],\n",
              "       [0, 1, 0, 1, 1, 1, 0, 0],\n",
              "       [0, 0, 1, 1, 0, 1, 1, 0],\n",
              "       [1, 0, 0, 1, 0, 2, 1, 0]])"
            ]
          },
          "execution_count": 258,
          "metadata": {},
          "output_type": "execute_result"
        }
      ],
      "source": [
        "corpus = ['I walked down down the boulevard',\n",
        "          'I walked down the avenue',\n",
        "          'I ran down the boulevard',\n",
        "          'I walk down the city',\n",
        "          'I walk down the the avenue']\n",
        "vectorizer = CountVectorizer()\n",
        "\n",
        "Bow = vectorizer.fit_transform(corpus)\n",
        "\n",
        "print(vectorizer.get_feature_names())\n",
        "Bow.toarray()"
      ],
      "id": "3b3fcd3e"
    },
    {
      "cell_type": "markdown",
      "metadata": {
        "id": "902d06c4"
      },
      "source": [
        "<div class='alert alert-block alert-info'>\n",
        "            Code:</div>"
      ],
      "id": "902d06c4"
    },
    {
      "cell_type": "code",
      "execution_count": null,
      "metadata": {
        "colab": {
          "base_uri": "https://localhost:8080/"
        },
        "id": "4283d07a",
        "outputId": "09537abc-657f-4965-9e82-21fa26d955be"
      },
      "outputs": [
        {
          "name": "stdout",
          "output_type": "stream",
          "text": [
            "(2000, 25559)\n",
            "25559\n",
            "(500, 25559)\n"
          ]
        }
      ],
      "source": [
        "# Create and fit the vectorizer to the training data\n",
        "vectorizer = CountVectorizer()\n",
        "train_bow = vectorizer.fit_transform(train_texts_splt)\n",
        "print(train_bow.shape)\n",
        "print(len(vectorizer.get_feature_names()))\n",
        "# Transform the validation data\n",
        "validation_bow = vectorizer.transform(val_texts)\n",
        "print(validation_bow.shape)"
      ],
      "id": "4283d07a"
    },
    {
      "cell_type": "markdown",
      "metadata": {
        "id": "27d8b9bc"
      },
      "source": [
        "<div class='alert alert-block alert-warning'>\n",
        "            Question:</div>\n",
        "\n",
        "Careful: check the memory that the representations are going to use (given the way they are build). What ```CountVectorizer``` argument allows to avoid the issue ? "
      ],
      "id": "27d8b9bc"
    },
    {
      "cell_type": "markdown",
      "metadata": {
        "id": "FL_He9rOL-jw"
      },
      "source": [
        "> **Answer:**<br>\n",
        "- The argument that allows to avoid the issue is : max_features. This argument allows us to consider in the vocabularly only the top max_features ordered by frequency which leads to minmize the memory used by the representations."
      ],
      "id": "FL_He9rOL-jw"
    },
    {
      "cell_type": "markdown",
      "metadata": {
        "id": "7000dde2"
      },
      "source": [
        "We are going to use the scikit-learn ```MultinomialNB```, an implementation of the Naive Bayesian model.\n",
        "<div class='alert alert-block alert-info'>\n",
        "            Code:</div>"
      ],
      "id": "7000dde2"
    },
    {
      "cell_type": "code",
      "execution_count": null,
      "metadata": {
        "colab": {
          "base_uri": "https://localhost:8080/",
          "height": 435
        },
        "id": "1cd31ca7",
        "outputId": "635ec666-5f97-4c76-9501-2c1edbfa3be2"
      },
      "outputs": [
        {
          "data": {
            "image/png": "[encoded data removed]",
            "text/plain": [
              "<Figure size 432x288 with 2 Axes>"
            ]
          },
          "metadata": {},
          "output_type": "display_data"
        },
        {
          "name": "stdout",
          "output_type": "stream",
          "text": [
            "              precision    recall  f1-score   support\n",
            "\n",
            "           0       0.76      0.86      0.80       245\n",
            "           1       0.84      0.74      0.79       255\n",
            "\n",
            "    accuracy                           0.80       500\n",
            "   macro avg       0.80      0.80      0.80       500\n",
            "weighted avg       0.80      0.80      0.80       500\n",
            "\n"
          ]
        }
      ],
      "source": [
        "from sklearn.naive_bayes import MultinomialNB\n",
        "# Fit the model on the training data\n",
        "clf = MultinomialNB()\n",
        "clf.fit(train_bow, train_labels_splt)\n",
        "\n",
        "from sklearn.metrics import confusion_matrix, ConfusionMatrixDisplay, classification_report\n",
        "# Test it on the validation data \n",
        "pred = clf.predict(validation_bow)\n",
        "cm = confusion_matrix(val_labels, pred, labels=clf.classes_)\n",
        "disp = ConfusionMatrixDisplay(confusion_matrix=cm,display_labels=clf.classes_)\n",
        "disp.plot()\n",
        "plt.show()\n",
        "print(classification_report(val_labels,pred))"
      ],
      "id": "1cd31ca7"
    },
    {
      "cell_type": "markdown",
      "metadata": {
        "id": "41d62628"
      },
      "source": [
        "<div class='alert alert-block alert-warning'>\n",
        "            Questions:</div>\n",
        "\n",
        "- Here, what is the naïve hypothesis ? \n",
        "- Let us look at the *features* built by the ```vectorizer```. How can we improve them ? "
      ],
      "id": "41d62628"
    },
    {
      "cell_type": "markdown",
      "metadata": {
        "id": "_CDYbGnyLdEU"
      },
      "source": [
        "> **Answers :** <br>\n",
        "- The naive hypothesis is the independancy between the features of the same class which leads to independant words. So the probability of a text document given a class is simply the product of each word probability given the class.<br>\n",
        "-  the features build by the vectorizers which are displayed bellow present some features that are not useful for classification such as numerical strings (for example '00','0083'). In order to improve these features we can apply some processing techniques on the data such as lemmatization, stemming,.. and in order to choose the frequency range of the words we can fix the parameters min_df and max_df.<br>"
      ],
      "id": "_CDYbGnyLdEU"
    },
    {
      "cell_type": "code",
      "execution_count": null,
      "metadata": {
        "colab": {
          "base_uri": "https://localhost:8080/"
        },
        "id": "28a0206a",
        "outputId": "966eb48b-7c75-4cbe-9346-7f4eb186deb2"
      },
      "outputs": [
        {
          "name": "stdout",
          "output_type": "stream",
          "text": [
            "['00', '000', '00001', '007', '01', '02', '05', '06', '07', '08', '09', '10', '100', '1000', '1000000', '100m', '101', '102', '103', '105', '10mil', '10th', '10yr', '11', '1100', '11001001', '112', '12', '120', '1200f', '125', '13', '130', '134', '13th', '14', '145', '147', '14ieme', '14th', '15', '16', '161', '1692', '16th', '16ème', '17', '1794', '1798', '18', '180', '1800', '1814', '1824', '1840', '1840s', '1850', '1864', '1880', '1880s', '1889', '1892', '1897', '18th', '19', '1902', '1907', '1910', '1912', '1914', '1916', '1918', '1919', '1920', '1920s', '1921', '1922', '1924', '1925', '1928', '1929', '1930', '1930s', '1931', '1932', '1933', '1934', '1935', '1936', '1937', '1938', '1939', '1940', '1940s', '1941', '1942', '1943', '1944', '1945', '1946']\n"
          ]
        },
        {
          "name": "stderr",
          "output_type": "stream",
          "text": [
            "/usr/local/lib/python3.7/dist-packages/sklearn/utils/deprecation.py:87: FutureWarning: Function get_feature_names is deprecated; get_feature_names is deprecated in 1.0 and will be removed in 1.2. Please use get_feature_names_out instead.\n",
            "  warnings.warn(msg, category=FutureWarning)\n"
          ]
        }
      ],
      "source": [
        "print(vectorizer.get_feature_names()[:100])"
      ],
      "id": "28a0206a"
    },
    {
      "cell_type": "markdown",
      "metadata": {
        "id": "cd9781e6"
      },
      "source": [
        "## 2 - Improving representations\n",
        "\n",
        "### 2.A - By reweighting and filtering\n",
        "\n",
        "Mainly, the arguments of the class ```vectorizer``` will allow us to easily change the way our textual data is represented. Let us try to work on our *Bag-of-words* representations:\n",
        "   \n",
        "#### Do not take into account words that are too frequent:\n",
        "\n",
        "You can use the argument ```max_df=1.0``` to change the amount of words taken into account. \n",
        "\n",
        "#### Try different granularities:\n",
        "\n",
        "Rather than just counting words, we can count sequences of words - limited in size, of course. \n",
        "We call a sequence of $n$ words a $n$-gram: let's try using 2 and 3-grams (bi- and trigrams).\n",
        "We can also try to use character sequences instead of word sequences.\n",
        "\n",
        "We will be interested in the options ```analyze='word'``` and ```ngram_range=(1, 2)``` which we'll change to alter the granularity. \n",
        "\n",
        "**Again: using these ways of getting more features from our text will probably have more impact if we do not have much training data to begin with !**\n",
        "\n",
        "To accelerate experiments, use the ```Pipeline``` tool from scikit-learn. "
      ],
      "id": "cd9781e6"
    },
    {
      "cell_type": "code",
      "execution_count": null,
      "metadata": {
        "id": "704909e5"
      },
      "outputs": [],
      "source": [
        "from sklearn.pipeline import Pipeline\n",
        "\n",
        "pipeline_base = Pipeline([\n",
        "    ('vect', CountVectorizer(max_features=30000, analyzer='word', stop_words=None)),\n",
        "    ('clf', MultinomialNB()),\n",
        "])"
      ],
      "id": "704909e5"
    },
    {
      "cell_type": "markdown",
      "metadata": {
        "id": "31001236"
      },
      "source": [
        "<div class='alert alert-block alert-info'>\n",
        "            Code:</div>"
      ],
      "id": "31001236"
    },
    {
      "cell_type": "code",
      "execution_count": null,
      "metadata": {
        "colab": {
          "base_uri": "https://localhost:8080/",
          "height": 1000
        },
        "id": "5cef03b3",
        "outputId": "128fa185-562f-4dfc-9fbc-148ecb7f55ae"
      },
      "outputs": [
        {
          "name": "stdout",
          "output_type": "stream",
          "text": [
            "Score for the first pipeline 0.796\n"
          ]
        },
        {
          "data": {
            "image/png": "[encoded data removed]",
            "text/plain": [
              "<Figure size 432x288 with 2 Axes>"
            ]
          },
          "metadata": {},
          "output_type": "display_data"
        },
        {
          "name": "stdout",
          "output_type": "stream",
          "text": [
            "              precision    recall  f1-score   support\n",
            "\n",
            "           0       0.76      0.86      0.80       245\n",
            "           1       0.84      0.74      0.79       255\n",
            "\n",
            "    accuracy                           0.80       500\n",
            "   macro avg       0.80      0.80      0.80       500\n",
            "weighted avg       0.80      0.80      0.80       500\n",
            "\n",
            "Score for the second pipeline 0.84\n"
          ]
        },
        {
          "data": {
            "image/png": "[encoded data removed]",
            "text/plain": [
              "<Figure size 432x288 with 2 Axes>"
            ]
          },
          "metadata": {},
          "output_type": "display_data"
        },
        {
          "name": "stdout",
          "output_type": "stream",
          "text": [
            "              precision    recall  f1-score   support\n",
            "\n",
            "           0       0.81      0.87      0.84       245\n",
            "           1       0.87      0.81      0.84       255\n",
            "\n",
            "    accuracy                           0.84       500\n",
            "   macro avg       0.84      0.84      0.84       500\n",
            "weighted avg       0.84      0.84      0.84       500\n",
            "\n",
            "Score for the third pipeline 0.826\n"
          ]
        },
        {
          "data": {
            "image/png": "[encoded data removed]",
            "text/plain": [
              "<Figure size 432x288 with 2 Axes>"
            ]
          },
          "metadata": {},
          "output_type": "display_data"
        },
        {
          "name": "stdout",
          "output_type": "stream",
          "text": [
            "              precision    recall  f1-score   support\n",
            "\n",
            "           0       0.81      0.85      0.83       245\n",
            "           1       0.85      0.80      0.82       255\n",
            "\n",
            "    accuracy                           0.83       500\n",
            "   macro avg       0.83      0.83      0.83       500\n",
            "weighted avg       0.83      0.83      0.83       500\n",
            "\n",
            "Score for the pipeline using characters 0.82\n"
          ]
        },
        {
          "data": {
            "image/png": "[encoded data removed]",
            "text/plain": [
              "<Figure size 432x288 with 2 Axes>"
            ]
          },
          "metadata": {},
          "output_type": "display_data"
        },
        {
          "name": "stdout",
          "output_type": "stream",
          "text": [
            "              precision    recall  f1-score   support\n",
            "\n",
            "           0       0.80      0.84      0.82       245\n",
            "           1       0.84      0.80      0.82       255\n",
            "\n",
            "    accuracy                           0.82       500\n",
            "   macro avg       0.82      0.82      0.82       500\n",
            "weighted avg       0.82      0.82      0.82       500\n",
            "\n"
          ]
        }
      ],
      "source": [
        "# Fit and test the pipeline\n",
        "pipeline_base.fit(train_texts_splt, train_labels_splt)\n",
        "predictions_1 = pipeline_base.predict(val_texts)\n",
        "print('Score for the first pipeline',pipeline_base.score(val_texts, val_labels))\n",
        "cm_1 = confusion_matrix(val_labels, predictions_1)\n",
        "disp_1 = ConfusionMatrixDisplay(confusion_matrix=cm_1)\n",
        "disp_1.plot()\n",
        "plt.show()\n",
        "print(classification_report(val_labels,predictions_1))\n",
        "# Fit and test a pipeline with bigrams,\n",
        "pipeline_base_2 = Pipeline([\n",
        "    ('vect', CountVectorizer(max_features=30000, analyzer='word', ngram_range=(1, 2),stop_words=None)),\n",
        "    ('clf', MultinomialNB()),\n",
        "])\n",
        "pipeline_base_2.fit(train_texts_splt, train_labels_splt)\n",
        "predictions_2 = pipeline_base_2.predict(val_texts)\n",
        "print('Score for the second pipeline',pipeline_base_2.score(val_texts, val_labels))\n",
        "cm_2 = confusion_matrix(val_labels, predictions_2)\n",
        "disp_2 = ConfusionMatrixDisplay(confusion_matrix=cm_2)\n",
        "disp_2.plot()\n",
        "plt.show()\n",
        "print(classification_report(val_labels,predictions_2))\n",
        "# ... trigrams,\n",
        "pipeline_base_3 = Pipeline([\n",
        "    ('vect', CountVectorizer(max_features=30000, analyzer='word', ngram_range=(1, 3),stop_words=None)),\n",
        "    ('clf', MultinomialNB()),\n",
        "])\n",
        "pipeline_base_3.fit(train_texts_splt, train_labels_splt)\n",
        "predictions_3 = pipeline_base_3.predict(val_texts)\n",
        "print('Score for the third pipeline',pipeline_base_3.score(val_texts, val_labels))\n",
        "cm_3 = confusion_matrix(val_labels, predictions_3)\n",
        "disp_3 = ConfusionMatrixDisplay(confusion_matrix=cm_3)\n",
        "disp_3.plot()\n",
        "plt.show()\n",
        "print(classification_report(val_labels,predictions_3))\n",
        "# ... and characters.\n",
        "pipeline_base_char = Pipeline([\n",
        "    ('vect', CountVectorizer(max_features=30000, analyzer='char', ngram_range=(7,7),stop_words=None)),\n",
        "    ('clf', MultinomialNB()),\n",
        "])\n",
        "pipeline_base_char.fit(train_texts_splt, train_labels_splt)\n",
        "predictions_char = pipeline_base_char.predict(val_texts)\n",
        "print('Score for the pipeline using characters',pipeline_base_char.score(val_texts, val_labels))\n",
        "cm_char = confusion_matrix(val_labels, predictions_char)\n",
        "disp_char = ConfusionMatrixDisplay(confusion_matrix=cm_char)\n",
        "disp_char.plot()\n",
        "plt.show()\n",
        "print(classification_report(val_labels,predictions_char))"
      ],
      "id": "5cef03b3"
    },
    {
      "cell_type": "markdown",
      "metadata": {
        "id": "3IchERp1EUnk"
      },
      "source": [
        "> **Remark :** When we use analyser='char' we need to increase the ngram_range to have a good score."
      ],
      "id": "3IchERp1EUnk"
    },
    {
      "cell_type": "markdown",
      "metadata": {
        "id": "c595bd93"
      },
      "source": [
        "#### Tf-idf:\n",
        "\n",
        "This is the product of the frequency of the term (TF) and its inverse frequency in documents (IDF).\n",
        "This method is usually used to measure the importance of a term $i$ in a document $j$ relative to the rest of the corpus, from a matrix of occurrences $ words \\times documents$. Thus, for a matrix $\\mathbf{T}$ of $|V|$ terms and $D$ documents:\n",
        "$$\\text{TF}(T, w, d) = \\frac{T_{w,d}}{\\sum_{w'=1}^{|V|} T_{w',d}} $$\n",
        "\n",
        "$$\\text{IDF}(T, w) = \\log\\left(\\frac{D}{|\\{d : T_{w,d} > 0\\}|}\\right)$$\n",
        "\n",
        "$$\\text{TF-IDF}(T, w, d) = \\text{TF}(X, w, d) \\cdot \\text{IDF}(T, w)$$\n",
        "\n",
        "It can be adapted to our case by considering that the context of the second word is the document. However, TF-IDF is generally better suited to low-density matrices, since it will penalize terms that appear in a large part of the documents. "
      ],
      "id": "c595bd93"
    },
    {
      "cell_type": "markdown",
      "metadata": {
        "id": "8106592c"
      },
      "source": [
        "<div class='alert alert-block alert-info'>\n",
        "            Code:</div>"
      ],
      "id": "8106592c"
    },
    {
      "cell_type": "code",
      "execution_count": null,
      "metadata": {
        "colab": {
          "base_uri": "https://localhost:8080/",
          "height": 453
        },
        "id": "6e9396a8",
        "outputId": "96d94b0a-3c50-4ca8-c232-4c9ab4843ada"
      },
      "outputs": [
        {
          "name": "stdout",
          "output_type": "stream",
          "text": [
            "Score for the pipeline with tf-idf 0.83\n"
          ]
        },
        {
          "data": {
            "image/png": "[encoded data removed]",
            "text/plain": [
              "<Figure size 432x288 with 2 Axes>"
            ]
          },
          "metadata": {},
          "output_type": "display_data"
        },
        {
          "name": "stdout",
          "output_type": "stream",
          "text": [
            "              precision    recall  f1-score   support\n",
            "\n",
            "           0       0.78      0.91      0.84       245\n",
            "           1       0.90      0.75      0.82       255\n",
            "\n",
            "    accuracy                           0.83       500\n",
            "   macro avg       0.84      0.83      0.83       500\n",
            "weighted avg       0.84      0.83      0.83       500\n",
            "\n"
          ]
        }
      ],
      "source": [
        "from sklearn.feature_extraction.text import TfidfTransformer\n",
        "\n",
        "# Fit and test a pipeline with tf-idf\n",
        "pipeline_tf_idf = Pipeline([('vect', CountVectorizer(max_features=30000, analyzer='word', ngram_range=(1,2),stop_words=None)),('tfidf', TfidfTransformer()),\n",
        "('clf', MultinomialNB()),])\n",
        "pipeline_tf_idf.fit(train_texts_splt, train_labels_splt)\n",
        "predictions_tf_idf = pipeline_tf_idf.predict(val_texts)\n",
        "print('Score for the pipeline with tf-idf',pipeline_tf_idf.score(val_texts, val_labels))\n",
        "\n",
        "pred_tf_idf = pipeline_tf_idf.predict(val_texts)\n",
        "cm_tf_idf = confusion_matrix(val_labels, pred_tf_idf)\n",
        "disp_cm = ConfusionMatrixDisplay(confusion_matrix=cm_tf_idf)\n",
        "disp_cm.plot()\n",
        "plt.show()\n",
        "print(classification_report(val_labels,pred_tf_idf))\n"
      ],
      "id": "6e9396a8"
    },
    {
      "cell_type": "markdown",
      "metadata": {
        "id": "c9d82780"
      },
      "source": [
        "### 2.B With pre-processing tools from NLTK\n",
        "\n",
        "We are now going to pre-process our textual data in order to simplify the model's task. **Note that this still will only be useful if we do not have a lot of training data to begin with !**\n",
        "\n",
        "**Important:** Until now, we obtained representations with ```vectorizer``` applied on the full document. The class divided the string into words itself ! Now, we'll need to do the **tokenization** ourselves in order to apply pre-processing to words. The simplest way to do this is to divide the string following blank spaces, with:\n",
        "```text.split()```. If we need something more elaborate, we can use a tokenizer from NLTK, ```word_tokenize```."
      ],
      "id": "c9d82780"
    },
    {
      "cell_type": "markdown",
      "metadata": {
        "id": "de763033"
      },
      "source": [
        "### Stemming \n",
        "\n",
        "Allows to go back to the root of a word: you can group different words around the same root, which facilitates generalization. Use:\n",
        "```from nltk import SnowballStemmer```"
      ],
      "id": "de763033"
    },
    {
      "cell_type": "code",
      "execution_count": null,
      "metadata": {
        "id": "694470b4"
      },
      "outputs": [],
      "source": [
        "from nltk import SnowballStemmer\n",
        "stemmer = SnowballStemmer(\"english\")"
      ],
      "id": "694470b4"
    },
    {
      "cell_type": "markdown",
      "metadata": {
        "id": "82c05c64"
      },
      "source": [
        "**Example:**"
      ],
      "id": "82c05c64"
    },
    {
      "cell_type": "code",
      "execution_count": null,
      "metadata": {
        "colab": {
          "base_uri": "https://localhost:8080/"
        },
        "id": "ee578d0b",
        "outputId": "8501aa08-95f0-4e73-87e9-abeb3f144726"
      },
      "outputs": [
        {
          "name": "stdout",
          "output_type": "stream",
          "text": [
            "word : singers ; stemmed : singer\n",
            "word : cat ; stemmed : cat\n",
            "word : generalization ; stemmed : general\n",
            "word : philosophy ; stemmed : philosophi\n",
            "word : psychology ; stemmed : psycholog\n",
            "word : philosopher ; stemmed : philosoph\n"
          ]
        }
      ],
      "source": [
        "words = ['singers', 'cat', 'generalization', 'philosophy', 'psychology', 'philosopher']\n",
        "for word in words:\n",
        "    print('word : %s ; stemmed : %s' %(word, stemmer.stem(word)))"
      ],
      "id": "ee578d0b"
    },
    {
      "cell_type": "markdown",
      "metadata": {
        "id": "cbe9681f"
      },
      "source": [
        "**Data transformation:**"
      ],
      "id": "cbe9681f"
    },
    {
      "cell_type": "markdown",
      "metadata": {
        "id": "c394722f"
      },
      "source": [
        "<div class='alert alert-block alert-info'>\n",
        "            Code:</div>"
      ],
      "id": "c394722f"
    },
    {
      "cell_type": "code",
      "execution_count": null,
      "metadata": {
        "colab": {
          "base_uri": "https://localhost:8080/",
          "height": 435
        },
        "id": "CcYGdY2THclQ",
        "outputId": "1b047231-b324-49cf-dc3f-022427413756"
      },
      "outputs": [
        {
          "data": {
            "image/png": "[encoded data removed]",
            "text/plain": [
              "<Figure size 432x288 with 2 Axes>"
            ]
          },
          "metadata": {},
          "output_type": "display_data"
        },
        {
          "name": "stdout",
          "output_type": "stream",
          "text": [
            "              precision    recall  f1-score   support\n",
            "\n",
            "           0       0.76      0.87      0.81       245\n",
            "           1       0.86      0.74      0.79       255\n",
            "\n",
            "    accuracy                           0.80       500\n",
            "   macro avg       0.81      0.81      0.80       500\n",
            "weighted avg       0.81      0.80      0.80       500\n",
            "\n"
          ]
        }
      ],
      "source": [
        "def stem(X):\n",
        "    X_stem=[]\n",
        "    for sentence in X:\n",
        "        Words=[] #list of stemmed word need to be empty at the start of each sentence\n",
        "        sentence_split = sentence.split() #split the sentence into words so we can stem them\n",
        "        for word in sentence_split:\n",
        "            Words.append(stemmer.stem(word)) #append the stem words to the list \n",
        "        joined = \" \".join(Words) #join the stemmed words of the sentence back together to form the sentence again\n",
        "        X_stem.append(joined) #append the new sentence to X_stem\n",
        "            \n",
        "    return X_stem\n",
        "\n",
        "# Transform training and validation data and test it with a basic pipeline\n",
        "pipeline_base = Pipeline([\n",
        "    ('vect', CountVectorizer(max_features=30000, analyzer='word', stop_words=None)),\n",
        "    ('clf', MultinomialNB()),\n",
        "])\n",
        "pipeline_base.fit(stem(train_texts_splt), train_labels_splt)\n",
        "pred_pipeline = pipeline_base.predict(stem(val_texts))\n",
        "\n",
        "cm_stem =  confusion_matrix(val_labels, pred_pipeline)\n",
        "disp_cm_stem = ConfusionMatrixDisplay(confusion_matrix=cm_stem)\n",
        "disp_cm_stem.plot()\n",
        "plt.show()\n",
        "print(classification_report(val_labels,pred_pipeline))"
      ],
      "id": "CcYGdY2THclQ"
    },
    {
      "cell_type": "markdown",
      "metadata": {
        "id": "3c5cd980"
      },
      "source": [
        "### Part of speech tags\n",
        "\n",
        "To generalize, we can also use the Part of Speech (POS) of the words, which will allow us to filter out information that is potentially not useful to the model. We will retrieve the POS of the words using the functions:\n",
        "```from nltk import pos_tag, word_tokenize```"
      ],
      "id": "3c5cd980"
    },
    {
      "cell_type": "code",
      "execution_count": null,
      "metadata": {
        "id": "1311438a"
      },
      "outputs": [],
      "source": [
        "import nltk\n",
        "from nltk import pos_tag, word_tokenize"
      ],
      "id": "1311438a"
    },
    {
      "cell_type": "markdown",
      "metadata": {
        "id": "72f59576"
      },
      "source": [
        "**Example:**"
      ],
      "id": "72f59576"
    },
    {
      "cell_type": "code",
      "execution_count": null,
      "metadata": {
        "colab": {
          "base_uri": "https://localhost:8080/"
        },
        "id": "96cbf3c6",
        "outputId": "bf44a9a5-3622-49d4-d0f1-9fff3e0eaff2"
      },
      "outputs": [
        {
          "name": "stderr",
          "output_type": "stream",
          "text": [
            "[nltk_data] Downloading package punkt to /root/nltk_data...\n",
            "[nltk_data]   Package punkt is already up-to-date!\n",
            "[nltk_data] Downloading package averaged_perceptron_tagger to\n",
            "[nltk_data]     /root/nltk_data...\n",
            "[nltk_data]   Package averaged_perceptron_tagger is already up-to-\n",
            "[nltk_data]       date!\n"
          ]
        },
        {
          "data": {
            "text/plain": [
              "[('I', 'PRP'), ('am', 'VBP'), ('Sam', 'NNP')]"
            ]
          },
          "execution_count": 17,
          "metadata": {},
          "output_type": "execute_result"
        }
      ],
      "source": [
        "import nltk\n",
        "nltk.download('punkt')\n",
        "nltk.download('averaged_perceptron_tagger')\n",
        "\n",
        "pos_tag(word_tokenize(('I am Sam')))"
      ],
      "id": "96cbf3c6"
    },
    {
      "cell_type": "markdown",
      "metadata": {
        "id": "8cc69460"
      },
      "source": [
        "**Data transformation:** only keep nouns, verbs, adverbs, and adjectives (```['NN', 'VB', 'ADJ', 'RB']```) for our model."
      ],
      "id": "8cc69460"
    },
    {
      "cell_type": "markdown",
      "metadata": {
        "id": "a303c5fb"
      },
      "source": [
        "<div class='alert alert-block alert-info'>\n",
        "            Code:</div>"
      ],
      "id": "a303c5fb"
    },
    {
      "cell_type": "code",
      "execution_count": null,
      "metadata": {
        "colab": {
          "base_uri": "https://localhost:8080/",
          "height": 435
        },
        "id": "c6aea80e",
        "outputId": "433474cf-856d-441c-cb35-4ccda8dde363"
      },
      "outputs": [
        {
          "data": {
            "image/png": "[encoded data removed]",
            "text/plain": [
              "<Figure size 432x288 with 2 Axes>"
            ]
          },
          "metadata": {},
          "output_type": "display_data"
        },
        {
          "name": "stdout",
          "output_type": "stream",
          "text": [
            "              precision    recall  f1-score   support\n",
            "\n",
            "           0       0.69      0.82      0.75       241\n",
            "           1       0.80      0.66      0.72       259\n",
            "\n",
            "    accuracy                           0.74       500\n",
            "   macro avg       0.74      0.74      0.74       500\n",
            "weighted avg       0.75      0.74      0.74       500\n",
            "\n"
          ]
        }
      ],
      "source": [
        "def pos_tag_filter(X, good_tags=['NN', 'VB', 'ADJ', 'RB']):\n",
        "    X_pos=[]\n",
        "    for sentence in X:\n",
        "        Words=[] #list of POS word need to be empty at the start of each sentence\n",
        "        sentence_split = word_tokenize(sentence) #split the sentence into words so we can POS them\n",
        "        POS_Tag = pos_tag(sentence_split) #POS the words in the sentence the will have the form [('I', 'PRP'), ('am', 'VBP')...]\n",
        "        for Element in POS_Tag: #access each element which will be for example ('I', 'PRP')\n",
        "            if Element[1] in good_tags: #if the tag of the word is in good tags\n",
        "                Words.append(Element[0]) #append the word to the list\n",
        "        joined = \" \".join(Words) #join the POS words of the sentence back together to form the sentence again\n",
        "        X_pos.append(joined) #append the new sentence to X_pos\n",
        "    return X_pos\n",
        "\n",
        "# Transform training and validation data and test it with a basic pipeline\n",
        "pipeline_base = Pipeline([\n",
        "    ('vect', CountVectorizer(max_features=30000, analyzer='word', stop_words=None)),\n",
        "    ('clf', MultinomialNB()),\n",
        "])\n",
        "pipeline_base.fit(pos_tag_filter(train_texts_splt), train_labels_splt)\n",
        "pred_pipeline = pipeline_base.predict(pos_tag_filter(val_texts))\n",
        "\n",
        "cm_tags =  confusion_matrix(val_labels, pred_pipeline)\n",
        "disp_cm_tags = ConfusionMatrixDisplay(confusion_matrix=cm_tags)\n",
        "disp_cm_tags.plot()\n",
        "plt.show()\n",
        "print(classification_report(val_labels,pred_pipeline))"
      ],
      "id": "c6aea80e"
    },
    {
      "cell_type": "markdown",
      "metadata": {
        "id": "41dbc1f1"
      },
      "source": [
        "## 3 - Dense Representations \n",
        "\n",
        "### Word Embeddings : Distributed representations via the distributional hypothesis \n",
        "\n",
        "**Goal**: We will try to obtain dense representations (as vectors of real numbers) of words (and possibly sentences). These representations are intended to be distributed: they are non-local representations. We represent an object as a combination of *features*, as opposed to the attribution of a dedicated symbol: see the founding work of Geoffrey Hinton, among others, on the subject: [Distributed Representations](https://web.stanford.edu/~jlmcc/papers/PDP/Chapter3.pdf).\n",
        "\n",
        "The term *distributed* representations is very general, but is what we are looking for. The challenge is therefore to be able to build, automatically, such representations.\n",
        "\n",
        "**Underlying idea**: It is based on the distributional hypothesis: contextual information is sufficient to obtain a viable representation of linguistic objects.\n",
        " - For a large class of cases [...] the meaning of a word is its use in the language.\" Wittgenstein (Philosophical Investigations, 43 - 1953)\n",
        " - You shall know a word by the company it keeps, Firth.\n",
        "\n",
        "Thus, a word can be characterized by the words that accompany it, via co-occurrence counts. Two words with a similar meaning will have a similar contextual distribution and are therefore more likely to appear in similar contexts. This hypothesis can be used as a justification for the application of statistics to semantics (information extraction, semantic analysis). It also allows some form of generalization: we can assume that the information we have about a word will be generalized to words with a similar distribution. \n",
        "\n",
        "**Motivation**: The goal is to obtain distributed representations in order to be able to effectively**:\n",
        "- Directly perform a semantic surface analysis.\n",
        "- Use it as a source of information for other language-related models and applications, especially for sentiment analysis. \n",
        "\n",
        "\n",
        "**Terminology**: Be careful not to confuse the idea of *distributed* and *distributional* representation. The latter generally indicates (for words) that the representation has been obtained strictly from co-occurrence counts, whereas additional information (document labels, part of speech tags, ...) can be used to build distributed representations. \n",
        "The models that allow to build these dense representations, in the form of vectors, are often called *vector spaces models*. These representations are also regularly called *word embeddings*, because the words are embedded in a vector space. In French, we often find the term *word embedding* or *lexical embedding*."
      ],
      "id": "41dbc1f1"
    },
    {
      "cell_type": "markdown",
      "metadata": {
        "id": "29c47805"
      },
      "source": [
        "### Getting representations: counts of occurrences and co-occurrences\n",
        "\n",
        "Depending on the type of corpus available, different types of distributional information can be obtained. If we have access to a collection of documents, we can thus choose to count the number of occurrences of each word in each document, to obtain a $words \\times documents$ matrix: it is on this principle that **Tf-Idf** is built. We will now look at a more general case: we have a large amount of data in text form, and we want to obtain representations of words in the form of vectors of reduced size, without the need to divide them into documents or categories. \n",
        "\n",
        "Suppose we have a corpus containing $T$ different words. We will construct a $\\mathbf{M}$ matrix of size $T \\times T$ which will contain the number of co-occurrences between words. There will be different factors to consider when constructing this matrix: \n",
        "\n",
        "- How do you define the 'context' of a word - context which will tell you what terms co-occur with that word?\n",
        "\n",
        "We can choose to use different scales: the document, the sentence, the nominal group, or simply a window of $k$ words, depending on the information we want to capture.\n",
        "\n",
        "\n",
        "- How do we quantify the importance of the counts? \n",
        "\n",
        "$\\rightarrow$ For example, we can give a decreasing weight to a co-occurrence according to the distance between the two words concerned ($\\frac{1}{d+1}$ for a separation by $d$ words).\n",
        "\n",
        "\n",
        "- Should we keep all the words that appear in the corpus? \n",
        "\n",
        "$\\rightarrow$ Usually not. We will see that for large corpora, the number $T$ of different words is huge. Second, even if the number of words is reasonable, we will have very little distributional information on the rarest words, and the representation obtained will be of poor quality. We will have to ask ourselves how to filter these words, and how to treat the words we choose not to represent.  "
      ],
      "id": "29c47805"
    },
    {
      "cell_type": "markdown",
      "metadata": {
        "id": "9af49e7c"
      },
      "source": [
        "#### Example:\n",
        "\n",
        "Let's look at the following text:\n",
        "\n",
        "*I walked down down the boulevard. I walked down the avenue. I ran down the boulevard. I walk down the city. I walk down the the avenue.*\n",
        "\n",
        "We choose to define the context of a word as the sentence to which it belongs, and to not use any weighting.\n",
        "We obtain the following matrix: \n",
        "\n",
        "|     *         | I | the | down | walked | boulevard | avenue | walk | ran | city |\n",
        "|---------------|---|-----|------|--------|-----------|--------|------|-----|------|\n",
        "| I             | 0 |      6 |    6 |   2 |         2 |      2 |   2 |    1 |    1 |\n",
        "| the           | 6 |      2 |    7 |   2 |         2 |      3 |   3 |    1 |    1 |\n",
        "| down          | 6 |      7 |    2 |   3 |         3 |      2 |   2 |    1 |    1 |\n",
        "| walked        | 2 |      2 |    3 |   0 |         1 |      1 |   0 |    0 |    0 |\n",
        "| boulevard     | 2 |      2 |    3 |   1 |         0 |      0 |   0 |    1 |    0 |\n",
        "| avenue        | 2 |      3 |    2 |   1 |         0 |      0 |   1 |    0 |    0 |\n",
        "| ran           | 2 |      3 |    2 |   0 |         0 |      1 |   0 |    0 |    1 |\n",
        "| walk          | 1 |      1 |    1 |   0 |         1 |      0 |   0 |    0 |    0 |\n",
        "| city          | 1 |      1 |    1 |   0 |         0 |      0 |   1 |    0 |    1 |"
      ],
      "id": "9af49e7c"
    },
    {
      "cell_type": "markdown",
      "metadata": {
        "id": "651600a4"
      },
      "source": [
        "### 3.A In practice: get a Vocabulary.\n",
        "\n",
        "To begin, we will implement separately a function returning the vocabulary. Here we will have to be able to control its size, by indicating a maximum number of words. We add, at the end, an \"unknown\" word that will replace all the words that do not appear in our \"limited\" vocabulary. \n",
        "\n",
        "**Remarks:**\n",
        "- Use tokenization to obtain words from a document !\n",
        "- Add a special token ```<UNK>``` to deal with out-of-vocabulary words: even if you don't put a limit, you might encounter new words when working with new data. \n",
        "- You need to count words and sort them by frequency in order to only keep the most frequent ones. It is not necessary to count 'unknown' words."
      ],
      "id": "651600a4"
    },
    {
      "cell_type": "markdown",
      "metadata": {
        "id": "1f103cc0"
      },
      "source": [
        "<div class='alert alert-block alert-info'>\n",
        "            Code:</div>"
      ],
      "id": "1f103cc0"
    },
    {
      "cell_type": "code",
      "execution_count": null,
      "metadata": {
        "id": "enGBNVXOsZz6"
      },
      "outputs": [],
      "source": [
        "def vocabulary(corpus, voc_threshold=0):\n",
        "    \"\"\"    \n",
        "    Function using word counts to build a vocabulary - can be improved with a second parameter for \n",
        "    setting a frequency threshold\n",
        "    Params:\n",
        "        corpus (list of list of strings): corpus of sentences\n",
        "        voc_threshold (int): maximum size of the vocabulary (0 means no limit !)\n",
        "    Returns:\n",
        "        vocabulary (dictionary): keys: list of distinct words across the corpus\n",
        "                                 values: indexes corresponding to each word sorted by frequency        \n",
        "    \"\"\"\n",
        "    word_counts = {}\n",
        "    for text in corpus:\n",
        "        for word in word_tokenize(text):\n",
        "            if word in word_counts:\n",
        "                word_counts[word]+=1\n",
        "            else:\n",
        "                word_counts[word]=1\n",
        "  \n",
        "    filtered_word_dict={k:v for k,v in word_counts.items() if v>=0}\n",
        "    filtered_word_list = sorted(filtered_word_dict.keys(),key=word_counts.get, reverse=True)\n",
        "    if voc_threshold:   \n",
        "        filtered_word_list = filtered_word_list[:voc_threshold]\n",
        "    filtered_word_counts = {w:filtered_word_dict[w] for w in filtered_word_list}\n",
        "    vocabulary = {w:i for i,w in enumerate(filtered_word_list)}\n",
        "    if voc_threshold>0:\n",
        "      vocabulary['UNK']=len(vocabulary)\n",
        "      filtered_word_counts['UNK']=0\n",
        "    return vocabulary, filtered_word_counts"
      ],
      "id": "enGBNVXOsZz6"
    },
    {
      "cell_type": "code",
      "execution_count": null,
      "metadata": {
        "colab": {
          "base_uri": "https://localhost:8080/"
        },
        "id": "f6f97b3b",
        "outputId": "f0982550-fac1-4e51-f773-ff87922353c0"
      },
      "outputs": [
        {
          "name": "stdout",
          "output_type": "stream",
          "text": [
            "{'down': 0, 'the': 1, 'I': 2, 'UNK': 3}\n",
            "{'down': 6, 'the': 6, 'I': 5, 'UNK': 0}\n",
            "{'down': 0, 'the': 1, 'I': 2, 'walked': 3, 'boulevard': 4, 'avenue': 5, 'walk': 6, 'ran': 7, 'city': 8}\n",
            "{'down': 6, 'the': 6, 'I': 5, 'walked': 2, 'boulevard': 2, 'avenue': 2, 'walk': 2, 'ran': 1, 'city': 1}\n"
          ]
        }
      ],
      "source": [
        "# Example for testing:\n",
        "\n",
        "corpus = ['I walked down down the boulevard',\n",
        "          'I walked down the avenue',\n",
        "          'I ran down the boulevard',\n",
        "          'I walk down the city',\n",
        "          'I walk down the the avenue']\n",
        "\n",
        "voc, counts = vocabulary(corpus, voc_threshold = 3)\n",
        "print(voc)\n",
        "print(counts)\n",
        "\n",
        "# We expect something like this:\n",
        "#  {'down': 0, 'the': 1, 'i': 2, 'UNK': 3}\n",
        "#  {'down': 6, 'the': 6, 'i': 5, 'UNK': 0}\n",
        "\n",
        "voc, counts = vocabulary(corpus)\n",
        "print(voc)\n",
        "print(counts)\n",
        "\n",
        "# We expect something like this:\n",
        "#  {'down': 0, 'the': 1, 'i': 2, 'walked': 3, 'boulevard': 4, 'avenue': 5, 'walk': 6, 'ran': 7, 'city': 8, 'UNK': 9}\n",
        "#  {'down': 6, 'the': 6, 'i': 5, 'walked': 2, 'boulevard': 2, 'avenue': 2, 'walk': 2, 'ran': 1, 'city': 1, 'UNK': 0}"
      ],
      "id": "f6f97b3b"
    },
    {
      "cell_type": "markdown",
      "metadata": {
        "id": "ce268905"
      },
      "source": [
        "### 3.B Obtaining co-occurences:\n",
        "\n",
        "The function takes as input the corpus (a list of strings, corresponding to documents/sentences) and a vocabulary, as well as the size of the context window. We can also implement the simplest solution: the context of a word being the full document to which it belongs. \n",
        "Finally, we can implement the possibility of making linearly decrease the importance of the context of a word when getting further from the input word.\n",
        "\n",
        "**Remark:**\n",
        "- The matrix we are building is symmetric: we can only build half of it !"
      ],
      "id": "ce268905"
    },
    {
      "cell_type": "markdown",
      "metadata": {
        "id": "f7258ed6"
      },
      "source": [
        "<div class='alert alert-block alert-info'>\n",
        "            Code:</div>"
      ],
      "id": "f7258ed6"
    },
    {
      "cell_type": "code",
      "execution_count": null,
      "metadata": {
        "id": "xuGSB32Heb_Y"
      },
      "outputs": [],
      "source": [
        "def co_occurence_matrix(corpus, vocabulary, window=0, distance_weighting=False):\n",
        "    \"\"\"\n",
        "    Params:\n",
        "        corpus (list of list of strings): corpus of sentences\n",
        "        vocabulary (dictionary): words to use in the matrix\n",
        "        window (int): size of the context window; when 0, the context is the whole sentence\n",
        "        distance_weighting (bool): indicates if we use a weight depending on the distance between words for co-oc counts\n",
        "    Returns:\n",
        "        matrix (array of size (len(vocabulary), len(vocabulary))): the co-oc matrix, using the same ordering as the vocabulary given in input    \n",
        "    \"\"\" \n",
        "    l = len(vocabulary)\n",
        "    M = np.zeros((l,l))\n",
        "    for sent in corpus:\n",
        "        # Get the sentence as a list of words\n",
        "        sent = word_tokenize(sent) \n",
        "        # Obtain the indexes of the words in the sentence from the vocabulary \n",
        "        sent_idx = [vocabulary[w] if w in vocabulary else vocabulary['UNK'] for w in sent]\n",
        "        # Go through the indexes and add 1 / dist(i,j) to M[i,j] if words of index i and j appear in the same window\n",
        "        for i, idx in enumerate(sent_idx):\n",
        "            # If we consider a limited context:\n",
        "            if window > 0:\n",
        "                # Create a list containing the indexes that are on the left of the current index 'idx_i'\n",
        "                l_ctx_idx = sent_idx[i-min(window,i):i]\n",
        "            # If the context = ... is the entire document:\n",
        "            else:\n",
        "                # The list containing the left context is easier to create\n",
        "                l_ctx_idx = sent_idx[:i]\n",
        "            # Go through the list and update M[i,j]:        \n",
        "            for j, ctx_idx in enumerate(l_ctx_idx):\n",
        "                if distance_weighting:\n",
        "                    weight = 1/(len(l_ctx_idx)-j)\n",
        "                else:\n",
        "                    weight = 1.0\n",
        "                M[idx, ctx_idx] += weight * 1.0\n",
        "                M[ctx_idx, idx] += weight * 1.0\n",
        "    return M "
      ],
      "id": "xuGSB32Heb_Y"
    },
    {
      "cell_type": "code",
      "execution_count": null,
      "metadata": {
        "colab": {
          "base_uri": "https://localhost:8080/"
        },
        "id": "d5a756f4",
        "outputId": "11b3c286-701c-45b8-9866-3dc8e32d06fa"
      },
      "outputs": [
        {
          "name": "stdout",
          "output_type": "stream",
          "text": [
            "[[2. 7. 6. 3. 3. 2. 2. 1. 1.]\n",
            " [7. 2. 6. 2. 2. 3. 3. 1. 1.]\n",
            " [6. 6. 0. 2. 2. 2. 2. 1. 1.]\n",
            " [3. 2. 2. 0. 1. 1. 0. 0. 0.]\n",
            " [3. 2. 2. 1. 0. 0. 0. 1. 0.]\n",
            " [2. 3. 2. 1. 0. 0. 1. 0. 0.]\n",
            " [2. 3. 2. 0. 0. 1. 0. 0. 1.]\n",
            " [1. 1. 1. 0. 1. 0. 0. 0. 0.]\n",
            " [1. 1. 1. 0. 0. 0. 1. 0. 0.]]\n"
          ]
        }
      ],
      "source": [
        "print(co_occurence_matrix(corpus, voc, 0, False))\n",
        "# Careful: results will differ from the above example because the vocabulary and the order of words are not \n",
        "# necessarily the same ! "
      ],
      "id": "d5a756f4"
    },
    {
      "cell_type": "markdown",
      "metadata": {
        "id": "230b36cf"
      },
      "source": [
        "### 3.C Application to a real data set\n",
        "\n",
        "We're going to work with the **imdb** data.\n",
        "\n",
        "#### Quick study of the data\n",
        "\n",
        "We would like to get an idea of what's in these film reviews before we proceed. So we'll get the vocabulary (in full) and represent the frequencies of the words, in order (be careful, you'll have to use a logarithmic scale): we should find back Zipf's law. This will give us an idea of the size of the vocabulary we will be able to choose: it's a matter of making a compromise between the necessary resources (size of the objects in memory) and the amount of information we can get from them (rare words can bring a lot of information, but it's difficult to learn good representations of them, because they are rare!).  "
      ],
      "id": "230b36cf"
    },
    {
      "cell_type": "code",
      "execution_count": null,
      "metadata": {
        "colab": {
          "base_uri": "https://localhost:8080/",
          "height": 822
        },
        "id": "57f62983",
        "outputId": "d5cdcb21-c7ce-4eab-aeeb-8e6743cbf606"
      },
      "outputs": [
        {
          "data": {
            "image/png": "[encoded data removed]",
            "text/plain": [
              "<Figure size 1440x360 with 1 Axes>"
            ]
          },
          "metadata": {},
          "output_type": "display_data"
        },
        {
          "name": "stdout",
          "output_type": "stream",
          "text": [
            "Vocabulary size: 132100\n",
            "Part of the corpus by taking the \"x\" most frequent words:\n",
            "5000 : 0.90\n",
            "10000 : 0.93\n",
            "15000 : 0.95\n",
            "20000 : 0.96\n",
            "25000 : 0.97\n",
            "30000 : 0.98\n",
            "35000 : 0.98\n",
            "40000 : 0.98\n",
            "45000 : 0.98\n",
            "50000 : 0.99\n",
            "55000 : 0.99\n",
            "60000 : 0.99\n",
            "65000 : 0.99\n",
            "70000 : 0.99\n",
            "75000 : 0.99\n",
            "80000 : 0.99\n",
            "85000 : 0.99\n",
            "90000 : 0.99\n",
            "95000 : 0.99\n",
            "100000 : 1.00\n",
            "105000 : 1.00\n",
            "110000 : 1.00\n",
            "115000 : 1.00\n",
            "120000 : 1.00\n",
            "125000 : 1.00\n",
            "130000 : 1.00\n"
          ]
        }
      ],
      "source": [
        "vocab, word_counts = vocabulary(train_texts)\n",
        "rank_counts = {w:[vocab[w], word_counts[w]] for w in vocab}\n",
        "rank_counts_array = np.array(list(rank_counts.values()))\n",
        "\n",
        "plt.figure(figsize=(20,5))\n",
        "plt.title('Word counts versus rank')\n",
        "plt.scatter(rank_counts_array[:,0], rank_counts_array[:,1])\n",
        "plt.yscale('log')\n",
        "plt.show()\n",
        "\n",
        "print('Vocabulary size: %i' % len(vocab))\n",
        "print('Part of the corpus by taking the \"x\" most frequent words:')\n",
        "for i in range(5000, len(vocab), 5000):\n",
        "    print('%i : %.2f' % (i, np.sum(rank_counts_array[:i, 1]) / np.sum(rank_counts_array[:,1]) ))"
      ],
      "id": "57f62983"
    },
    {
      "cell_type": "markdown",
      "metadata": {
        "id": "9f57b9ba"
      },
      "source": [
        "**Result of the analysis**: we can be satisfied with a vocabulary of 10,000 or even 5,000 words - this is important, because it will determine the size of the objects we will manipulate. "
      ],
      "id": "9f57b9ba"
    },
    {
      "cell_type": "code",
      "execution_count": null,
      "metadata": {
        "id": "375a3ed5"
      },
      "outputs": [],
      "source": [
        "vocab_5k, word_counts_5k = vocabulary(train_texts, 5000)"
      ],
      "id": "375a3ed5"
    },
    {
      "cell_type": "code",
      "execution_count": null,
      "metadata": {
        "colab": {
          "base_uri": "https://localhost:8080/"
        },
        "id": "500d843c",
        "outputId": "a7a50deb-2181-433e-8a85-149da4308f5d"
      },
      "outputs": [
        {
          "name": "stdout",
          "output_type": "stream",
          "text": [
            "497\n"
          ]
        }
      ],
      "source": [
        "print(vocab_5k['cinema'])"
      ],
      "id": "500d843c"
    },
    {
      "cell_type": "markdown",
      "metadata": {
        "id": "7c675120"
      },
      "source": [
        "#### Obtaining the matrices:\n",
        "We can now get the co-occurence matrices with parameters of our choosing !"
      ],
      "id": "7c675120"
    },
    {
      "cell_type": "code",
      "execution_count": null,
      "metadata": {
        "colab": {
          "background_save": true
        },
        "id": "4b9026e3",
        "outputId": "631455d2-7e8d-450d-f779-b2fd6c6e8118"
      },
      "outputs": [
        {
          "name": "stdout",
          "output_type": "stream",
          "text": [
            "(5001, 5001)\n",
            "(5001, 5001)\n"
          ]
        }
      ],
      "source": [
        "M5dist = co_occurence_matrix(train_texts, vocab_5k, window=5, distance_weighting=True)\n",
        "M20 = co_occurence_matrix(train_texts, vocab_5k, window=20, distance_weighting=False)\n",
        "print(M5dist.shape)\n",
        "print(M20.shape)"
      ],
      "id": "4b9026e3"
    },
    {
      "cell_type": "markdown",
      "metadata": {
        "id": "dee464a6"
      },
      "source": [
        "### 3.D Vector comparison \n",
        "\n",
        "We can use these very large-dimensional vectors for a very simple semantic analysis: for example, by looking for the nearest neighbors of a words. However, we need to be careful to the distance that we use (euclidean, cosine). Vector normalization can also play a role; in any way, we need to not over-interpret this type of results. "
      ],
      "id": "dee464a6"
    },
    {
      "cell_type": "code",
      "execution_count": null,
      "metadata": {
        "colab": {
          "base_uri": "https://localhost:8080/"
        },
        "id": "36ea657e",
        "outputId": "07768afd-4f36-423e-9df4-1c41f6da3f91"
      },
      "outputs": [
        {
          "name": "stdout",
          "output_type": "stream",
          "text": [
            "With a large context, without taking in account distance between words:\n",
            "Plus proches voisins de good selon la distance 'euclidean': \n",
            "[['very', 'This', 'there', 'what', 'more', 'would', 'some', 'can', 'story']]\n",
            "Plus proches voisins de good selon la distance 'cosine': \n",
            "[['decent', 'great', 'very', 'pretty', 'nice', 'funny', 'entertaining', 'not', 'enjoyable']]\n",
            "\n",
            "With a small context, and reducing the impact of counts when words are distant:\n",
            "Plus proches voisins de good selon la distance 'euclidean': \n",
            "[['very', 'great', 'bad', 'just', 'really', 'also', 'little', 'even', 'she']]\n",
            "Plus proches voisins de good selon la distance 'cosine': \n",
            "[['great', 'fine', 'wonderful', 'simple', 'decent', 'nice', 'solid', 'serious', 'strong']]\n"
          ]
        }
      ],
      "source": [
        "def euclidean(u, v):\n",
        "    return np.linalg.norm(u-v)\n",
        "\n",
        "def length_norm(u):\n",
        "    return u / np.sqrt(u.dot(u))\n",
        "\n",
        "def cosine(u, v):\n",
        "    return 1.0 - length_norm(u).dot(length_norm(v))\n",
        "\n",
        "from sklearn.neighbors import NearestNeighbors\n",
        "\n",
        "def print_neighbors(distance, voc, co_oc, mot, k=10):\n",
        "    inv_voc = {id: w for w, id in voc.items()}\n",
        "    neigh = NearestNeighbors(n_neighbors=k, algorithm='brute', metric=distance)\n",
        "    neigh.fit(co_oc) \n",
        "    dist, ind = neigh.kneighbors([co_oc[voc[mot]]])\n",
        "    print(\"Plus proches voisins de %s selon la distance '%s': \" % (mot, distance.__name__))\n",
        "    print([[inv_voc[i] for i in s[1:]] for s in ind])\n",
        "    \n",
        "print(\"With a large context, without taking in account distance between words:\")    \n",
        "print_neighbors(euclidean, vocab_5k, M20, 'good')\n",
        "print_neighbors(cosine, vocab_5k, M20, 'good')\n",
        "print(\"\")\n",
        "print(\"With a small context, and reducing the impact of counts when words are distant:\")    \n",
        "print_neighbors(euclidean, vocab_5k, M5dist, 'good')\n",
        "print_neighbors(cosine, vocab_5k, M5dist, 'good') "
      ],
      "id": "36ea657e"
    },
    {
      "cell_type": "markdown",
      "metadata": {
        "id": "8255df76"
      },
      "source": [
        "#### Vector re-weighting:\n",
        "\n",
        "Similarly as before, we may want to alter the representations to obtain better features - depending on what use we will have for them.\n",
        "\n",
        "**Normalization**: Very easy: we want to cancel the influence of the magnitude of the counts on the representation.\n",
        "\n",
        "$$\\mathbf{m_{normalized}} = \\left[ \n",
        "   \\frac{m_{1}}{\\sum_{i=1}^{n}m_{i}}, \n",
        "   \\frac{m_{2}}{\\sum_{i=1}^{n}m_{i}}, \n",
        "   \\ldots\n",
        "   \\frac{m_{n}}{\\sum_{i=1}^{n}m_{i}}, \n",
        "\\right]$$\n",
        " \n",
        "**Pointwise Mutual Information**: The aim is to assess the extent to which the co-occurrence of the two terms is *unexpected*. This measure is the ratio of the joint probability of the two words and the product of their individual probabilities:\n",
        "$$\n",
        "\\text{PMI}(x,y) = \\log \\left( \\frac{P(x,y)}{P(x)P(y)} \\right)\n",
        "$$\n",
        "The joint probability of the two words corresponds to the number of times they are observed together, divided by the total number of co-occurrences in the corpus: \n",
        "$$ P(\\mathbf{M},w_{1},w_{2}) = \\frac{M_{w_{1},w_{2}}}{\\sum_{i=1}^{n}\\sum_{j=1}^{n} M_{i,j}} $$\n",
        "The individual probability of a word simply corresponds to its frequency, which can be calculated by counting all co-occurrences where that word appears:\n",
        "$$ P(\\mathbf{M},w) = \\frac{\\sum_{j=1}^{m} M_{w,j}}{\\sum_{i=1}^{n}\\sum_{j=1}^{n} M_{i,j}} $$\n",
        "Hence,\n",
        "$$ \n",
        "\\text{PMI}(\\mathbf{M},w_{1},w_{2}) = \\log  \\frac{M_{w_{1},w_{2}} \\times \\left( \\sum_{i=1}^{n}\\sum_{j=1}^{n} M_{i,j} \\right)}{\\left( \\sum_{j=1}^{n} M_{w_{1},j} \\right) \\times \\left( \\sum_{i=1}^{n}M_{i,w_{2}} \\right)} \n",
        "$$\n",
        "We thus calculate the discrepancy between the observation we have made in our corpus and the frequency of appearance of these terms if we consider them independent - i.e. we assume that their co-occurrence is a coincidence.\n",
        "\n",
        "The main problem with this measure is that it is not adapted to the case where no co-occurrence is observed. Since the PMI is supposed to return a positive quantity if more co-occurrences are observed than expected, and a negative quantity if fewer co-occurrences are observed, we cannot choose to replace $\\log(0)$ by $0$. A commonly used solution is to use the **Positive PMI**, which sets all negative values to $0$.\n",
        " \n",
        " $$ \\text{PPMI}(\\mathbf{M},w_{1},w_{2}) = \n",
        " \\begin{cases}\n",
        " \\text{PMI}(\\mathbf{M},w_{1},w_{2}) & \\textrm{if } \\text{PMI}(\\mathbf{M},w_{1},w_{2}) > 0 \\\\\n",
        " 0 & \\textrm{otherwise}\n",
        " \\end{cases} $$"
      ],
      "id": "8255df76"
    },
    {
      "cell_type": "code",
      "execution_count": null,
      "metadata": {
        "id": "fe82f9e5"
      },
      "outputs": [],
      "source": [
        "def pmi(co_oc, positive=True):\n",
        "    sum_vec = co_oc.sum(axis=0)\n",
        "    sum_tot = sum_vec.sum()\n",
        "    with np.errstate(divide='ignore'):\n",
        "        pmi = np.log((co_oc * sum_tot) / (np.outer(sum_vec, sum_vec)))                   \n",
        "    pmi[np.isinf(pmi)] = 0.0  # log(0) = 0\n",
        "    if positive:\n",
        "        pmi[pmi < 0] = 0.0\n",
        "    return pmi"
      ],
      "id": "fe82f9e5"
    },
    {
      "cell_type": "code",
      "execution_count": null,
      "metadata": {
        "colab": {
          "base_uri": "https://localhost:8080/"
        },
        "id": "d764929d",
        "outputId": "08299e9f-21e3-4d6a-b398-32f8183db304"
      },
      "outputs": [
        {
          "name": "stdout",
          "output_type": "stream",
          "text": [
            "Avec la PPMI:\n",
            "Plus proches voisins de good selon la distance 'euclidean': \n",
            "[['/', 'bad', 'br', 'but', 'good.', 'think', 'great', 'movie', 'UNK']]\n",
            "Plus proches voisins de good selon la distance 'cosine': \n",
            "[['bad', 'great', 'decent', 'excellent', 'nice', 'fine', 'interesting', 'funny', 'poor']]\n",
            "Plus proches voisins de good selon la distance 'euclidean': \n",
            "[['.', ',', 'is', 'but', 'and', 'it', 'movie', 'the', 'that']]\n",
            "Plus proches voisins de good selon la distance 'cosine': \n",
            "[['great', '.', 'decent', 'pretty', 'acting', 'bad', 'very', 'but', 'excellent']]\n"
          ]
        }
      ],
      "source": [
        "PPMI5 = pmi(M5dist)\n",
        "PPMI20 = pmi(M20)\n",
        "\n",
        "print(\"Avec la PPMI:\")    \n",
        "print_neighbors(euclidean, vocab_5k, PPMI5, 'good')\n",
        "print_neighbors(cosine, vocab_5k, PPMI5, 'good')\n",
        "print_neighbors(euclidean, vocab_5k, PPMI20, 'good')\n",
        "print_neighbors(cosine, vocab_5k, PPMI20, 'good')"
      ],
      "id": "d764929d"
    },
    {
      "cell_type": "markdown",
      "metadata": {
        "id": "196fb18a"
      },
      "source": [
        "### 3.E Word representations through count-based methods: reducing the dimension of co-occurence matrices\n",
        "\n",
        "#### Motivation\n",
        "\n",
        "The goal is not only to reduce the size of the data representation (then, we will work with smaller pre-determined sized representations, instead of working with vectors of the size of the vocabulary) but also showcase higher-level relationships between words: by reducing their representations to the *most important dimensions* of the data, we end up *generalizing* some properties of words.\n",
        "\n",
        "#### Dimension reduction via SVD \n",
        "\n",
        "A matrix is a linear transformation: applying a SVD to it is decomposing our linear transformation in a product of linear transformations of different types. We are changing the basis and replacing our data in a different space, using **eigenvectors**:\n",
        "\n",
        "$$ \\mathbf{M} = \\mathbf{U} \\mathbf{\\lambda} \\mathbf{V}^{\\text{T}} $$\n",
        "\n",
        "Matrices $\\mathbf{U}$, $\\mathbf{\\lambda}$, and $\\mathbf{V}$ have the following properties:\n",
        "- $\\mathbf{U}$ and $\\mathbf{V}$ are orthogonal matrices ($\\mathbf{U}^{\\text{T}} = \\mathbf{U}^{-1}$ and $\\mathbf{V}^{\\text{T}} = \\mathbf{V}^{-1}$). They contain the eingenvectors to the left and to the right of $\\mathbf{M}$.\n",
        "- $\\mathbf{\\lambda}$ is a diagonal matrix: careful, it is not necessarily square. diagonal coefficient are the eigenvalues of $\\mathbf{M}$.\n",
        "\n",
        "Then, the *most important dimensions* correspond to the highest eigenvalues. Reducing our data to a dimension $k$ corresponds to only keeping vectors corresponding to the $k$ first eigenvalues - which in turns is equivalent to keeping only the first $k$ vectors of $U$. \n",
        "We use ```TruncatedSVD``` from ```scikit-learn```:"
      ],
      "id": "196fb18a"
    },
    {
      "cell_type": "code",
      "execution_count": null,
      "metadata": {
        "colab": {
          "base_uri": "https://localhost:8080/"
        },
        "id": "db88d00e",
        "outputId": "4ada61b1-0529-41ad-ba4b-2160f626d1b6"
      },
      "outputs": [
        {
          "name": "stdout",
          "output_type": "stream",
          "text": [
            "(5001, 300)\n",
            "Plus proches voisins de good selon la distance 'euclidean': \n",
            "[['very', 'great', 'bad', 'just', 'really', 'also', 'little', 'even', 'she']]\n",
            "Plus proches voisins de good selon la distance 'cosine': \n",
            "[['great', 'fine', 'pleasant', 'lousy', 'wonderful', 'decent', 'simple', 'nice', 'solid']]\n"
          ]
        }
      ],
      "source": [
        "from sklearn.decomposition import TruncatedSVD\n",
        "svd = TruncatedSVD(n_components=300)\n",
        "SVDEmbeddings = svd.fit_transform(M5dist)\n",
        "print(SVDEmbeddings.shape)\n",
        "SVDEmbeddings[vocab_5k['UNK']]\n",
        "print_neighbors(euclidean, vocab_5k, SVDEmbeddings, 'good')\n",
        "print_neighbors(cosine, vocab_5k, SVDEmbeddings, 'good')"
      ],
      "id": "db88d00e"
    },
    {
      "cell_type": "markdown",
      "metadata": {
        "id": "725f1376"
      },
      "source": [
        "Note: When applying this method to the count matrix $\\mathbf{M}$ of dimension $T \\times D$, where $\\mathbf{M}_{t,d}$ contains the number of occuerences of the word $t$ in the document $d$, we obtain the method called **Latent Semantic Analysis**, which is used to detect latent (semantic) components allowing to group documents together."
      ],
      "id": "725f1376"
    },
    {
      "cell_type": "markdown",
      "metadata": {
        "id": "d38f1811"
      },
      "source": [
        "#### Visualization in two dimensions\n",
        "\n",
        "We will now use **principal components analysis** (PCA) to visualize our data in two dimensions. This is equivalent to applying SVD to the covariance matrix of the data, in order for the principal components to be independant from each other an maximize the variance of the data. We use the class ```PCA``` from ```scikit-learn```: "
      ],
      "id": "d38f1811"
    },
    {
      "cell_type": "code",
      "execution_count": null,
      "metadata": {
        "colab": {
          "base_uri": "https://localhost:8080/",
          "height": 266
        },
        "id": "c56e1553",
        "outputId": "7586bb44-9ede-4c3d-cd86-6734dd4a5bf3"
      },
      "outputs": [
        {
          "data": {
            "image/png": "[encoded data removed]",
            "text/plain": [
              "<Figure size 432x288 with 1 Axes>"
            ]
          },
          "metadata": {},
          "output_type": "display_data"
        }
      ],
      "source": [
        "from sklearn.decomposition import PCA\n",
        "pca = PCA(n_components=2, whiten=True)\n",
        "Emb = pca.fit_transform(M5dist)\n",
        "\n",
        "words = ['bad', 'good', 'best', 'worst', 'poor', 'great',\n",
        "         'dialog', 'role', 'actor', 'camera', 'scene',\n",
        "         'film', 'movie', 'award']\n",
        "ind_words = [vocab_5k[w] for w in words]\n",
        "x_words = [Emb[ind,0] for ind in ind_words]\n",
        "y_words = [Emb[ind,1] for ind in ind_words]\n",
        "\n",
        "fig, ax = plt.subplots()\n",
        "ax.scatter(x_words, y_words)\n",
        "\n",
        "for i, w in enumerate(words):\n",
        "    ax.annotate(w, (x_words[i], y_words[i]), (x_words[i] + 0.001, y_words[i] + 0.001))"
      ],
      "id": "c56e1553"
    },
    {
      "cell_type": "code",
      "execution_count": null,
      "metadata": {
        "colab": {
          "base_uri": "https://localhost:8080/",
          "height": 265
        },
        "id": "775772cb",
        "outputId": "2f6bc0b4-bdb6-4f58-d402-df3adcf549f7"
      },
      "outputs": [
        {
          "data": {
            "image/png": "[encoded data removed]",
            "text/plain": [
              "<Figure size 432x288 with 1 Axes>"
            ]
          },
          "metadata": {},
          "output_type": "display_data"
        }
      ],
      "source": [
        "Norm5 = M5dist / np.linalg.norm(M5dist, ord=2, axis=1, keepdims=True)\n",
        "\n",
        "pca = PCA(n_components=2, whiten=True)\n",
        "Emb = pca.fit_transform(Norm5)\n",
        "\n",
        "words = ['bad', 'good', 'best', 'worst', 'poor', 'great',\n",
        "         'dialog', 'role', 'actor', 'camera', 'scene',\n",
        "         'film', 'movie', 'award']\n",
        "ind_words = [vocab_5k[w] for w in words]\n",
        "x_words = [Emb[ind,0] for ind in ind_words]\n",
        "y_words = [Emb[ind,1] for ind in ind_words]\n",
        "\n",
        "fig, ax = plt.subplots()\n",
        "ax.scatter(x_words, y_words)\n",
        "\n",
        "for i, w in enumerate(words):\n",
        "    ax.annotate(w, (x_words[i], y_words[i]), (x_words[i] + 0.001, y_words[i] + 0.001))"
      ],
      "id": "775772cb"
    },
    {
      "cell_type": "markdown",
      "metadata": {
        "id": "b034f388"
      },
      "source": [
        "### 3.F Word representations through prediction-based methods: commonly used algorithms\n",
        "\n",
        "The idea here is to define a set of representations ${w_{i}}_{i=1}^{V}$, of predefined dimension $d$ (here, we will work with $d = 300$), for all the words $i$ of the vocabulary $V$ - then **train** these representations to match what we want. "
      ],
      "id": "b034f388"
    },
    {
      "cell_type": "markdown",
      "metadata": {
        "id": "00114b96"
      },
      "source": [
        "#### Word2Vec\n",
        "\n",
        "\n",
        "**Reminder: The skip-gram model**\n",
        "\n",
        "The basic skip-gram model estimates the probabilities of a pair of words $(i, j)$ to appear together in data:\n",
        "\n",
        "$$P(j \\mid i) = \\frac{\\exp(w_{i} c_{j})}{\\sum_{j'\\in V}\\exp(w_{i} c_{j'})}$$\n",
        "\n",
        "\n",
        "where $w_{i}$ is the lign vector (of the word) $i$ and $c_{j}$ is the column vector (of a context word) $j$. The objective is to minimize the following quantity:\n",
        "\n",
        "\n",
        "$$ -\\sum_{i=1}^{m} \\sum_{k=1}^{|V|} \\textbf{1}\\{o_{i}=k\\} \\log \\frac{\\exp(w_{i} c_{k})}{\\sum_{j=1}^{|V|} \\exp(w_{i} c_{j})}$$\n",
        "\n",
        "\n",
        "where $V$ is the vocabulary.\n",
        "The inputs $w_{i}$ are the representations of the words, which are updated during training, and the output is an *one-hot* $o$ vector, which contains only one $1$ and $0$. For example, if `good` is the 47th word in the vocabulary, the output $o$ for an example or `good` is the word to predict will consist of $0$s everywhere except $1$ in the 47th position of the vector. `good` will be the word to predict when the input $w$ is a word in its context.\n",
        "We therefore obtain this output with standard softmax - we add a bias term $b$ .\n",
        "\n",
        "\n",
        "$$ o = \\textbf{softmax}(w_{a}C + b)$$\n",
        "\n",
        "\n",
        "If we use the set of representations for the whole vocabulary (the matrix $W$) as input, we get:\n",
        "\n",
        "\n",
        "$$ O = \\textbf{softmax}(WC + b)$$\n",
        "\n",
        "\n",
        "and so we come back to the central idea of all our methods: we seek to obtain word representations from co-occurrence counts. Here, we train the parameters contained in $W$ and $C$, two matrices representing the words in reduced dimension (300) so that their scalar product is as close as possible to the co-occurrences observed in the data, using a maximum likelihood objective.\n",
        "\n",
        "#### Skip-gram with negative sampling\n",
        "\n",
        "The training of the skip-gram model implies to calculate a sum on the whole vocabulary, because of the **softmax**. As soon as the size of the vocabulary increases, it becomes impossible to compute. In order to make the calculations faster, we change the objective and use the method of *negative sampling* (or, very close to it, the *noise contrastive estimation*).\n",
        "\n",
        "\n",
        "If we note $\\mathcal{D}$ the data set and we note $\\mathcal{D}'$ a set of pairs of words that are **not** in the data (and that in practice, we draw randomly), the objective is:\n",
        "\n",
        "\n",
        "$$\\sum_{i, j \\in \\mathcal{D}}-\\log\\sigma(w_{i}c_{j}) + \\sum_{i, j \\in \\mathcal{D}'}\\log\\sigma(w_{i}c_{j})$$\n",
        "\n",
        "\n",
        "where $\\sigma$ is the sigmoid activation function $\\frac{1}{1 + \\exp(-x)}$.\n",
        "A common practice is to generate pairs from $\\mathcal{D}'$ in proportion to the frequencies of the words in the training data (the so-called unigram distribution):\n",
        "\n",
        "\n",
        "$$P(w) = \\frac{\\textbf{T}(w)^{0.75}}{\\sum_{w'\\in V} \\textbf{T}(w')}$$\n",
        "\n",
        "\n",
        "Although different, this new objective function is a sufficient approximation of the previous one, and is based on the same principle. Much research has been done on this objective: for example, [Levy and Golberg 2014](http://papers.nips.cc/paper/5477-neural-word-embedding-as-implicit-matrix-factorization) shows that the objective calculates the PMI matrix shifted by a constant value. One can also see [Cotterell et al. 2017](https://aclanthology.coli.uni-saarland.de/papers/E17-2028/e17-2028) for an interpretation of the algorithm as a variant of PCA."
      ],
      "id": "00114b96"
    },
    {
      "cell_type": "markdown",
      "metadata": {
        "id": "465cd4c1"
      },
      "source": [
        "We will use the ```gensim``` library for its implementation of word2vec in python. We'll have to make a specific use of it, since we want to keep the same vocabulary as before: we'll first create the class, then get the vocabulary we generated above. \n",
        "To avoid having to put all the data in memory all at once, we define a generator, which will take all the input data and pre-process it, and return to the ```Word2Vec``` class sentence by sentence. "
      ],
      "id": "465cd4c1"
    },
    {
      "cell_type": "code",
      "execution_count": null,
      "metadata": {
        "id": "b84c4689"
      },
      "outputs": [],
      "source": [
        "from gensim.models import Word2Vec\n",
        "\n",
        "model = Word2Vec(size=300,\n",
        "                 window=5,\n",
        "                 null_word=len(word_counts_5k))\n",
        "model.build_vocab_from_freq(word_counts_5k)"
      ],
      "id": "b84c4689"
    },
    {
      "cell_type": "code",
      "execution_count": null,
      "metadata": {
        "id": "74b74ec8"
      },
      "outputs": [],
      "source": [
        "preprocessed_corpus = [word_tokenize(train_texts[i]) for i in range(len(train_texts))]"
      ],
      "id": "74b74ec8"
    },
    {
      "cell_type": "code",
      "execution_count": null,
      "metadata": {
        "colab": {
          "base_uri": "https://localhost:8080/"
        },
        "id": "de520b42",
        "outputId": "5f954338-054a-4169-8572-3e4c33bfae57"
      },
      "outputs": [
        {
          "data": {
            "text/plain": [
              "(85387528, 141305940)"
            ]
          },
          "execution_count": 156,
          "metadata": {},
          "output_type": "execute_result"
        }
      ],
      "source": [
        "model.train(preprocessed_corpus, total_examples=len(train_texts), epochs=20, report_delay=1)"
      ],
      "id": "de520b42"
    },
    {
      "cell_type": "code",
      "execution_count": null,
      "metadata": {
        "id": "c68e0a71"
      },
      "outputs": [],
      "source": [
        "W2VEmbeddings = model.wv.vectors"
      ],
      "id": "c68e0a71"
    },
    {
      "cell_type": "markdown",
      "metadata": {
        "id": "9f4db6b3"
      },
      "source": [
        "#### Glove\n",
        "\n",
        "The objective defined by Glove ([Pennington et al. (2014)](http://www.aclweb.org/anthology/D/D14/D14-1162.pdf)) is to learn from the vectors $w_{i}$ and $w_{k}$ so that their scalar product corresponds to the logarithm of their **Pointwise Mutual Information**: \n",
        "\n",
        "\n",
        "$$ w_{i}^\\top w_{k} = (PMI(w_{i}, w_{k}))$$\n",
        "\n",
        "\n",
        "In the article, this objective is carefully justified by a reasoning about the operations one wants to perform with these vectors and the properties they should have - in particular, symmetry between rows and columns (see the article for more details).  \n",
        "The final goal obtained is the following, where $M$ is the co-occurrence matrix:\n",
        "\n",
        "\n",
        "$$\\sum_{i, j=1}^{|V|} f\\left(M_{ij}\\right)\n",
        "  \\left(w_i^\\top w_j + b_i + b_j - \\log M_{ij}\\right)^2$$\n",
        "  \n",
        " \n",
        "Here, $f$ is a *scaling* function that reduces the importance of the most frequent co-occurrence counts: \n",
        "\n",
        "\n",
        "$$f(x) \n",
        "\\begin{cases}\n",
        "(x/x_{\\max})^{\\alpha} & \\textrm{if } x < x_{\\max} \\\\\n",
        "1 & \\textrm{otherwise}\n",
        "\\end{cases}$$\n",
        "\n",
        "\n",
        "Usually, we choose $\\alpha=0.75$ and $x_{\\max} = 100$, although these parameters may need to be changed depending on the data."
      ],
      "id": "9f4db6b3"
    },
    {
      "cell_type": "markdown",
      "metadata": {
        "id": "014dc0f2"
      },
      "source": [
        "The following code uses the gensim API to retrieve pre-trained representations (It is normal that the loading is long)."
      ],
      "id": "014dc0f2"
    },
    {
      "cell_type": "code",
      "execution_count": null,
      "metadata": {
        "colab": {
          "base_uri": "https://localhost:8080/",
          "height": 329
        },
        "id": "Lhk7PBrEK_uO",
        "outputId": "18507514-ce01-400d-f557-104eaccc119e"
      },
      "outputs": [
        {
          "name": "stdout",
          "output_type": "stream",
          "text": [
            "Looking in indexes: https://pypi.org/simple, https://us-python.pkg.dev/colab-wheels/public/simple/\n",
            "Collecting gensim==4.0.0\n",
            "  Downloading gensim-4.0.0-cp37-cp37m-manylinux1_x86_64.whl (23.9 MB)\n",
            "\u001b[K     |████████████████████████████████| 23.9 MB 86.6 MB/s \n",
            "\u001b[?25hRequirement already satisfied: scipy>=0.18.1 in /usr/local/lib/python3.7/dist-packages (from gensim==4.0.0) (1.7.3)\n",
            "Requirement already satisfied: smart-open>=1.8.1 in /usr/local/lib/python3.7/dist-packages (from gensim==4.0.0) (5.2.1)\n",
            "Requirement already satisfied: numpy>=1.11.3 in /usr/local/lib/python3.7/dist-packages (from gensim==4.0.0) (1.21.6)\n",
            "Installing collected packages: gensim\n",
            "  Attempting uninstall: gensim\n",
            "    Found existing installation: gensim 3.6.0\n",
            "    Uninstalling gensim-3.6.0:\n",
            "      Successfully uninstalled gensim-3.6.0\n",
            "Successfully installed gensim-4.0.0\n"
          ]
        },
        {
          "data": {
            "application/vnd.colab-display-data+json": {
              "pip_warning": {
                "packages": [
                  "gensim"
                ]
              }
            }
          },
          "metadata": {},
          "output_type": "display_data"
        }
      ],
      "source": [
        "pip install gensim==4.0.0"
      ],
      "id": "Lhk7PBrEK_uO"
    },
    {
      "cell_type": "code",
      "execution_count": null,
      "metadata": {
        "colab": {
          "base_uri": "https://localhost:8080/"
        },
        "id": "f174baf3",
        "outputId": "c60252bf-8a4d-4daa-fe5a-3504f0dd88c4"
      },
      "outputs": [
        {
          "name": "stderr",
          "output_type": "stream",
          "text": [
            "/usr/local/lib/python3.7/dist-packages/gensim/similarities/__init__.py:15: UserWarning: The gensim.similarities.levenshtein submodule is disabled, because the optional Levenshtein package <https://pypi.org/project/python-Levenshtein/> is unavailable. Install Levenhstein (e.g. `pip install python-Levenshtein`) to suppress this warning.\n",
            "  warnings.warn(msg)\n"
          ]
        }
      ],
      "source": [
        "import gensim.downloader as api\n",
        "loaded_glove_model = api.load(\"glove-wiki-gigaword-300\")"
      ],
      "id": "f174baf3"
    },
    {
      "cell_type": "markdown",
      "metadata": {
        "id": "af01a4ff"
      },
      "source": [
        "We can extract the embedding matrix this way, and check its size:"
      ],
      "id": "af01a4ff"
    },
    {
      "cell_type": "code",
      "execution_count": null,
      "metadata": {
        "colab": {
          "base_uri": "https://localhost:8080/"
        },
        "id": "4e4feb5b",
        "outputId": "9bdcbead-925a-4095-d96d-45d0055d9a25"
      },
      "outputs": [
        {
          "name": "stdout",
          "output_type": "stream",
          "text": [
            "(400000, 300)\n"
          ]
        }
      ],
      "source": [
        "loaded_glove_embeddings = loaded_glove_model.vectors\n",
        "print(loaded_glove_embeddings.shape)"
      ],
      "id": "4e4feb5b"
    },
    {
      "cell_type": "markdown",
      "metadata": {
        "id": "a093acda"
      },
      "source": [
        "We can see that there are $400,000$ words represented, and that the embeddings are of size $300$. We define a function that returns, from the loaded model, the vocabulary and the embedding matrix according to the structures we used before. We add, here again, an unknown word \"UNK\" in case there are words in our data that are not part of the $400,000$ words represented here. "
      ],
      "id": "a093acda"
    },
    {
      "cell_type": "code",
      "execution_count": null,
      "metadata": {
        "id": "2fa17499"
      },
      "outputs": [],
      "source": [
        "def get_glove_voc_and_embeddings(glove_model):\n",
        "    voc = {word : index for word, index in enumerate(glove_model.index_to_key)}\n",
        "    voc['UNK'] = len(voc)\n",
        "    embeddings = glove_model.vectors\n",
        "    return voc, embeddings"
      ],
      "id": "2fa17499"
    },
    {
      "cell_type": "code",
      "execution_count": null,
      "metadata": {
        "id": "0c149df4"
      },
      "outputs": [],
      "source": [
        "loaded_glove_voc, loaded_glove_embeddings = get_glove_voc_and_embeddings(loaded_glove_model)"
      ],
      "id": "0c149df4"
    },
    {
      "cell_type": "markdown",
      "metadata": {
        "id": "d8c53ef9"
      },
      "source": [
        "In order to compare the representations loaded here and the ones produced with word2vec, the same vocabulary should be used. For this purpose, I reuse the following code to create a $5000$ word vocabulary from the data, and I add at the end a function that returns the matrix of representations loaded with Glove for these $5000$ words only, in the right order. "
      ],
      "id": "d8c53ef9"
    },
    {
      "cell_type": "code",
      "execution_count": null,
      "metadata": {
        "id": "634ee2c8"
      },
      "outputs": [],
      "source": [
        "def get_glove_adapted_embeddings(glove_model, input_voc):\n",
        "    keys = {i: glove_model.key_to_index.get(w, None) for w, i in input_voc.items()}\n",
        "    index_dict = {i: key for i, key in keys.items() if key is not None}\n",
        "    embeddings = np.zeros((len(input_voc),glove_model.vectors.shape[1]))\n",
        "    for i, ind in index_dict.items():\n",
        "        embeddings[i] = glove_model.vectors[ind]\n",
        "    return embeddings"
      ],
      "id": "634ee2c8"
    },
    {
      "cell_type": "code",
      "execution_count": null,
      "metadata": {
        "id": "00452da0"
      },
      "outputs": [],
      "source": [
        "GloveEmbeddings = get_glove_adapted_embeddings(loaded_glove_model, vocab_5k)"
      ],
      "id": "00452da0"
    },
    {
      "cell_type": "markdown",
      "metadata": {
        "id": "5c68258e"
      },
      "source": [
        "This function takes as input the model loaded using the Gensim API, as well as a vocabulary we created ourselves, and returns the embedding matrix from the loaded model, for the words in our vocabulary and in the right order.\n",
        "Note: unknown words are represented by a vector of zeros:"
      ],
      "id": "5c68258e"
    },
    {
      "cell_type": "code",
      "execution_count": null,
      "metadata": {
        "colab": {
          "base_uri": "https://localhost:8080/"
        },
        "id": "720fd8bd",
        "outputId": "ac2c61f7-7174-45d9-a3f1-72e4f252b85d"
      },
      "outputs": [
        {
          "name": "stdout",
          "output_type": "stream",
          "text": [
            "(5001, 300)\n"
          ]
        },
        {
          "data": {
            "text/plain": [
              "array([0., 0., 0., 0., 0., 0., 0., 0., 0., 0., 0., 0., 0., 0., 0., 0., 0.,\n",
              "       0., 0., 0., 0., 0., 0., 0., 0., 0., 0., 0., 0., 0., 0., 0., 0., 0.,\n",
              "       0., 0., 0., 0., 0., 0., 0., 0., 0., 0., 0., 0., 0., 0., 0., 0., 0.,\n",
              "       0., 0., 0., 0., 0., 0., 0., 0., 0., 0., 0., 0., 0., 0., 0., 0., 0.,\n",
              "       0., 0., 0., 0., 0., 0., 0., 0., 0., 0., 0., 0., 0., 0., 0., 0., 0.,\n",
              "       0., 0., 0., 0., 0., 0., 0., 0., 0., 0., 0., 0., 0., 0., 0., 0., 0.,\n",
              "       0., 0., 0., 0., 0., 0., 0., 0., 0., 0., 0., 0., 0., 0., 0., 0., 0.,\n",
              "       0., 0., 0., 0., 0., 0., 0., 0., 0., 0., 0., 0., 0., 0., 0., 0., 0.,\n",
              "       0., 0., 0., 0., 0., 0., 0., 0., 0., 0., 0., 0., 0., 0., 0., 0., 0.,\n",
              "       0., 0., 0., 0., 0., 0., 0., 0., 0., 0., 0., 0., 0., 0., 0., 0., 0.,\n",
              "       0., 0., 0., 0., 0., 0., 0., 0., 0., 0., 0., 0., 0., 0., 0., 0., 0.,\n",
              "       0., 0., 0., 0., 0., 0., 0., 0., 0., 0., 0., 0., 0., 0., 0., 0., 0.,\n",
              "       0., 0., 0., 0., 0., 0., 0., 0., 0., 0., 0., 0., 0., 0., 0., 0., 0.,\n",
              "       0., 0., 0., 0., 0., 0., 0., 0., 0., 0., 0., 0., 0., 0., 0., 0., 0.,\n",
              "       0., 0., 0., 0., 0., 0., 0., 0., 0., 0., 0., 0., 0., 0., 0., 0., 0.,\n",
              "       0., 0., 0., 0., 0., 0., 0., 0., 0., 0., 0., 0., 0., 0., 0., 0., 0.,\n",
              "       0., 0., 0., 0., 0., 0., 0., 0., 0., 0., 0., 0., 0., 0., 0., 0., 0.,\n",
              "       0., 0., 0., 0., 0., 0., 0., 0., 0., 0., 0.])"
            ]
          },
          "execution_count": 28,
          "metadata": {},
          "output_type": "execute_result"
        }
      ],
      "source": [
        "print(GloveEmbeddings.shape)\n",
        "GloveEmbeddings[vocab_5k['UNK']]"
      ],
      "id": "720fd8bd"
    },
    {
      "cell_type": "markdown",
      "metadata": {
        "id": "070ebd9b"
      },
      "source": [
        "## 4 - Application to sentiment analysis\n",
        "\n",
        "We will now use these representations for sentiment analysis. \n",
        "The basic model, as before, will be constructed in two steps:\n",
        "- A function to obtain vector representations of criticism, from text, vocabulary, and vector representations of words. Such a function (to be completed below) will associate to each word of a review its embeddings, and create the representation for the whole sentence by summing these embeddings.\n",
        "- A classifier will take these representations as input and make a prediction. To achieve this, we can first use logistic regression ```LogisticRegression``` from ```scikit-learn```  "
      ],
      "id": "070ebd9b"
    },
    {
      "cell_type": "markdown",
      "metadata": {
        "id": "d847ad44"
      },
      "source": [
        "<div class='alert alert-block alert-info'>\n",
        "            Code:</div>"
      ],
      "id": "d847ad44"
    },
    {
      "cell_type": "code",
      "execution_count": null,
      "metadata": {
        "id": "05a65c1c"
      },
      "outputs": [],
      "source": [
        "def sentence_representations(texts, vocabulary, embeddings, np_func=np.sum):\n",
        "    \"\"\"\n",
        "    Represent the sentences as a combination of the vector of its words.\n",
        "    Parameters\n",
        "    ----------\n",
        "    texts : a list of sentences   \n",
        "    vocabulary : dict\n",
        "        From words to indexes of vector.\n",
        "    embeddings : Matrix containing word representations\n",
        "    np_func : function (default: np.sum)\n",
        "        A numpy matrix operation that can be applied columnwise, \n",
        "        like `np.mean`, `np.sum`, or `np.prod`. \n",
        "    Returns\n",
        "    -------\n",
        "    np.array, dimension `(len(texts), embeddings.shape[1])`            \n",
        "    \"\"\"\n",
        "    representations = []\n",
        "    #\n",
        "    # To complete\n",
        "    representations = np.zeros((len(texts), embeddings.shape[1]))\n",
        "    for i, text in enumerate(texts):\n",
        "        representation_matrix = np.stack([embeddings[vocabulary[w]] for w in text.split() if w in vocabulary])\n",
        "        representations[i] = np_func(representation_matrix, axis = 0)\n",
        "    # \n",
        "    #     \n",
        "    return representations"
      ],
      "id": "05a65c1c"
    },
    {
      "cell_type": "code",
      "execution_count": null,
      "metadata": {
        "id": "5db7f488"
      },
      "outputs": [],
      "source": [
        "train_rep = sentence_representations(train_texts_splt, vocab_5k, GloveEmbeddings)\n",
        "val_rep = sentence_representations(val_texts, vocab_5k, GloveEmbeddings)"
      ],
      "id": "5db7f488"
    },
    {
      "cell_type": "markdown",
      "metadata": {
        "id": "75f44c99"
      },
      "source": [
        "<div class='alert alert-block alert-info'>\n",
        "            Code:</div>"
      ],
      "id": "75f44c99"
    },
    {
      "cell_type": "code",
      "execution_count": null,
      "metadata": {
        "colab": {
          "background_save": true
        },
        "id": "ca7b0013",
        "outputId": "bf82e514-cc80-499b-8efa-e5985c444d58"
      },
      "outputs": [
        {
          "name": "stdout",
          "output_type": "stream",
          "text": [
            "Score de classification: 0.734 (std 0.039293765408777)\n"
          ]
        }
      ],
      "source": [
        "from sklearn.linear_model import LogisticRegression\n",
        "\n",
        "# Fit the classifier on the transformed training data and test it on the transformed validation data\n",
        "from sklearn.model_selection import cross_val_score\n",
        "\n",
        "# Exemple avec les embeddings obtenus via Glove\n",
        "rep = sentence_representations(train_texts_splt,vocab_5k, GloveEmbeddings)\n",
        "clf = LogisticRegression(max_iter=5000).fit(rep, train_labels_splt)\n",
        "\n",
        "scores = cross_val_score(clf, sentence_representations( val_texts,vocab_5k, GloveEmbeddings), val_labels, cv=5)\n",
        "print('Score de classification: %s (std %s)' % (np.mean(scores), np.std(scores)))"
      ],
      "id": "ca7b0013"
    },
    {
      "cell_type": "markdown",
      "metadata": {
        "id": "5970a0cd"
      },
      "source": [
        "<div class='alert alert-block alert-warning'>\n",
        "            Questions:</div>\n",
        "\n",
        "You can know compare the various sets of embeddings, and answer the following questions:\n",
        "- Why could we expect that the results obtained with embeddings pre-trained with Glove are better than others ? Is that verified ? And what changes if we remove the constraint of having the same 5000 words vocabulary as the other methods ? \n",
        "- Which matrix that we can reduce the dimension of gives the best results ? "
      ],
      "id": "5970a0cd"
    },
    {
      "cell_type": "markdown",
      "metadata": {
        "id": "eZixmc-hNrIy"
      },
      "source": [
        "> **Answers:**<br>\n",
        "- The results with Glove representations are a priori better because : \n",
        " - they are pre-trained with a lot of data (Gigaword 5 corpus with 6B tokens and 400K vocabularly). \n",
        " - The model is trained with many parameters, the representations are therefore denser (many more words in a vector of dimension 300). <br>\n",
        "To compare the representations, one can either compare the words closest to a word or compare the results of a classification model as we do.\n",
        "- Surprisingly, the result with the Glove is not the best, but the second best. We see that the occurence matrix method is a bit better than the one with the tf-idf representation."
      ],
      "id": "eZixmc-hNrIy"
    }
  ],
  "metadata": {
    "colab": {
      "collapsed_sections": [
        "c595bd93",
        "c9d82780",
        "3c5cd980",
        "29c47805",
        "9af49e7c",
        "651600a4",
        "ce268905",
        "7c675120",
        "dee464a6",
        "8255df76",
        "196fb18a",
        "d38f1811",
        "00114b96"
      ],
      "provenance": []
    },
    "kernelspec": {
      "display_name": "Python 3",
      "language": "python",
      "name": "python3"
    },
    "language_info": {
      "codemirror_mode": {
        "name": "ipython",
        "version": 3
      },
      "file_extension": ".py",
      "mimetype": "text/x-python",
      "name": "python",
      "nbconvert_exporter": "python",
      "pygments_lexer": "ipython3",
      "version": "3.7.4"
    }
  },
  "nbformat": 4,
  "nbformat_minor": 5
}